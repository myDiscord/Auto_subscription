{
 "cells": [
  {
   "cell_type": "markdown",
   "metadata": {
    "id": "il9mxL14fbAA"
   },
   "source": [
    "# \"SberAutopodpiska\": prediction of targeted actions"
   ]
  },
  {
   "cell_type": "markdown",
   "metadata": {
    "id": "hxF0cbZagWuj"
   },
   "source": [
    "**Goal of the project**: to predict the occurrence of one of the target actions - events like \"Leave a request\" or \"Order a call\" for each session by the attributes visit_\\*, utm_\\*, device_\\*, geo_\\*.\n",
    "\n",
    "**Target metric**: roc-auc > 0.65."
   ]
  },
  {
   "cell_type": "markdown",
   "metadata": {
    "id": "wsl453hog4Po"
   },
   "source": [
    "## Notebook setup"
   ]
  },
  {
   "cell_type": "markdown",
   "metadata": {
    "id": "00cQKFqYg9OA"
   },
   "source": [
    "### Import libraries\n",
    "\n",
    "\n",
    "\n"
   ]
  },
  {
   "cell_type": "code",
   "execution_count": 1,
   "metadata": {
    "execution": {
     "iopub.execute_input": "2023-05-04T10:32:53.358071Z",
     "iopub.status.busy": "2023-05-04T10:32:53.357038Z",
     "iopub.status.idle": "2023-05-04T10:33:05.769846Z",
     "shell.execute_reply": "2023-05-04T10:33:05.768818Z",
     "shell.execute_reply.started": "2023-05-04T10:32:53.358025Z"
    }
   },
   "outputs": [
    {
     "name": "stdout",
     "output_type": "stream",
     "text": [
      "Collecting feature-engine==1.4.0\n",
      "  Using cached feature_engine-1.4.0-py2.py3-none-any.whl (276 kB)\n",
      "Requirement already satisfied: catboost==1.1.1 in /Users/Kafka/opt/anaconda3/lib/python3.9/site-packages (1.1.1)\n",
      "Requirement already satisfied: bayesian-optimization==1.4.1 in /Users/Kafka/opt/anaconda3/lib/python3.9/site-packages (1.4.1)\n",
      "Requirement already satisfied: numpy>=1.18.2 in /Users/Kafka/opt/anaconda3/lib/python3.9/site-packages (from feature-engine==1.4.0) (1.21.5)\n",
      "Requirement already satisfied: pandas>=1.0.3 in /Users/Kafka/opt/anaconda3/lib/python3.9/site-packages (from feature-engine==1.4.0) (1.4.4)\n",
      "Requirement already satisfied: scikit-learn>=1.0.0 in /Users/Kafka/opt/anaconda3/lib/python3.9/site-packages (from feature-engine==1.4.0) (1.0.2)\n",
      "Requirement already satisfied: scipy>=1.4.1 in /Users/Kafka/opt/anaconda3/lib/python3.9/site-packages (from feature-engine==1.4.0) (1.9.1)\n",
      "Requirement already satisfied: statsmodels>=0.11.1 in /Users/Kafka/opt/anaconda3/lib/python3.9/site-packages (from feature-engine==1.4.0) (0.13.2)\n",
      "Requirement already satisfied: graphviz in /Users/Kafka/opt/anaconda3/lib/python3.9/site-packages (from catboost==1.1.1) (0.20.1)\n",
      "Requirement already satisfied: matplotlib in /Users/Kafka/opt/anaconda3/lib/python3.9/site-packages (from catboost==1.1.1) (3.5.2)\n",
      "Requirement already satisfied: plotly in /Users/Kafka/opt/anaconda3/lib/python3.9/site-packages (from catboost==1.1.1) (5.9.0)\n",
      "Requirement already satisfied: six in /Users/Kafka/opt/anaconda3/lib/python3.9/site-packages (from catboost==1.1.1) (1.16.0)\n",
      "Requirement already satisfied: colorama in /Users/Kafka/opt/anaconda3/lib/python3.9/site-packages (from bayesian-optimization==1.4.1) (0.4.6)\n",
      "Requirement already satisfied: python-dateutil>=2.8.1 in /Users/Kafka/opt/anaconda3/lib/python3.9/site-packages (from pandas>=1.0.3->feature-engine==1.4.0) (2.8.2)\n",
      "Requirement already satisfied: pytz>=2020.1 in /Users/Kafka/opt/anaconda3/lib/python3.9/site-packages (from pandas>=1.0.3->feature-engine==1.4.0) (2022.6)\n",
      "Requirement already satisfied: joblib>=0.11 in /Users/Kafka/opt/anaconda3/lib/python3.9/site-packages (from scikit-learn>=1.0.0->feature-engine==1.4.0) (1.1.0)\n",
      "Requirement already satisfied: threadpoolctl>=2.0.0 in /Users/Kafka/opt/anaconda3/lib/python3.9/site-packages (from scikit-learn>=1.0.0->feature-engine==1.4.0) (2.2.0)\n",
      "Requirement already satisfied: patsy>=0.5.2 in /Users/Kafka/opt/anaconda3/lib/python3.9/site-packages (from statsmodels>=0.11.1->feature-engine==1.4.0) (0.5.2)\n",
      "Requirement already satisfied: packaging>=21.3 in /Users/Kafka/opt/anaconda3/lib/python3.9/site-packages (from statsmodels>=0.11.1->feature-engine==1.4.0) (21.3)\n",
      "Requirement already satisfied: cycler>=0.10 in /Users/Kafka/opt/anaconda3/lib/python3.9/site-packages (from matplotlib->catboost==1.1.1) (0.11.0)\n",
      "Requirement already satisfied: fonttools>=4.22.0 in /Users/Kafka/opt/anaconda3/lib/python3.9/site-packages (from matplotlib->catboost==1.1.1) (4.25.0)\n",
      "Requirement already satisfied: kiwisolver>=1.0.1 in /Users/Kafka/opt/anaconda3/lib/python3.9/site-packages (from matplotlib->catboost==1.1.1) (1.4.2)\n",
      "Requirement already satisfied: pillow>=6.2.0 in /Users/Kafka/opt/anaconda3/lib/python3.9/site-packages (from matplotlib->catboost==1.1.1) (9.2.0)\n",
      "Requirement already satisfied: pyparsing>=2.2.1 in /Users/Kafka/opt/anaconda3/lib/python3.9/site-packages (from matplotlib->catboost==1.1.1) (3.0.9)\n",
      "Requirement already satisfied: tenacity>=6.2.0 in /Users/Kafka/opt/anaconda3/lib/python3.9/site-packages (from plotly->catboost==1.1.1) (8.1.0)\n",
      "Installing collected packages: feature-engine\n",
      "  Attempting uninstall: feature-engine\n",
      "    Found existing installation: feature-engine 1.6.0\n",
      "    Uninstalling feature-engine-1.6.0:\n",
      "      Successfully uninstalled feature-engine-1.6.0\n",
      "Successfully installed feature-engine-1.4.0\n"
     ]
    }
   ],
   "source": [
    "! pip install feature-engine==1.4.0 catboost==1.1.1 bayesian-optimization==1.4.1"
   ]
  },
  {
   "cell_type": "code",
   "execution_count": 2,
   "metadata": {
    "execution": {
     "iopub.execute_input": "2023-05-04T10:33:05.772722Z",
     "iopub.status.busy": "2023-05-04T10:33:05.772401Z",
     "iopub.status.idle": "2023-05-04T10:33:08.677135Z",
     "shell.execute_reply": "2023-05-04T10:33:08.676262Z",
     "shell.execute_reply.started": "2023-05-04T10:33:05.772692Z"
    },
    "id": "s45aMMmq98og"
   },
   "outputs": [],
   "source": [
    "import sys\n",
    "from datetime import datetime\n",
    "import warnings\n",
    "from pathlib import Path\n",
    "from typing import Union\n",
    "from functools import partial\n",
    "\n",
    "import dill\n",
    "import pandas as pd\n",
    "import matplotlib.pyplot as plt\n",
    "import seaborn as sns\n",
    "\n",
    "# preprocessing and metrics\n",
    "from sklearn.preprocessing import FunctionTransformer, StandardScaler\n",
    "from sklearn.model_selection import (\n",
    "    train_test_split, GridSearchCV, StratifiedKFold)\n",
    "from sklearn.metrics import(\n",
    "    roc_auc_score, accuracy_score, confusion_matrix, precision_score,\n",
    "    recall_score, f1_score, make_scorer, roc_curve)\n",
    "from sklearn.pipeline import Pipeline\n",
    "from feature_engine.encoding import RareLabelEncoder, OneHotEncoder\n",
    "from feature_engine.wrappers import SklearnTransformerWrapper\n",
    "from feature_engine.outliers import Winsorizer\n",
    "from feature_engine.selection import (\n",
    "    DropDuplicateFeatures, DropConstantFeatures,\n",
    "    DropCorrelatedFeatures, DropFeatures)\n",
    "from feature_engine.transformation import YeoJohnsonTransformer\n",
    "from bayes_opt import BayesianOptimization\n",
    "\n",
    "# models\n",
    "from sklearn.base import BaseEstimator\n",
    "from sklearn.dummy import DummyClassifier\n",
    "from sklearn.linear_model import LogisticRegression\n",
    "from sklearn.neighbors import KNeighborsClassifier\n",
    "from sklearn.neural_network import MLPClassifier\n",
    "from sklearn.svm import LinearSVC\n",
    "from sklearn.naive_bayes import GaussianNB\n",
    "from sklearn.tree import DecisionTreeClassifier\n",
    "from sklearn.ensemble import(\n",
    "    RandomForestClassifier, HistGradientBoostingClassifier)\n",
    "from catboost import CatBoostClassifier\n",
    "from xgboost import XGBClassifier\n",
    "from lightgbm import LGBMClassifier\n",
    "\n",
    "# Additional information\n",
    "from additional_data import(\n",
    "    get_distance_from_moscow, target_events, missing_values, organic_mediums,\n",
    "    social_media_sources, moscow_region_cities, big_cities, russian_holidays)"
   ]
  },
  {
   "cell_type": "markdown",
   "metadata": {
    "id": "30fUVLzuiQEa"
   },
   "source": [
    "### Creating constants"
   ]
  },
  {
   "cell_type": "code",
   "execution_count": 3,
   "metadata": {
    "execution": {
     "iopub.execute_input": "2023-05-04T10:33:08.678799Z",
     "iopub.status.busy": "2023-05-04T10:33:08.678339Z",
     "iopub.status.idle": "2023-05-04T10:33:08.682552Z",
     "shell.execute_reply": "2023-05-04T10:33:08.681636Z",
     "shell.execute_reply.started": "2023-05-04T10:33:08.678770Z"
    },
    "id": "s1ljYcGeWGTs"
   },
   "outputs": [],
   "source": [
    "TEST_SIZE = 200_000\n",
    "RANDOM_SEED = 0"
   ]
  },
  {
   "cell_type": "markdown",
   "metadata": {
    "id": "W4r8kBnGh3xP"
   },
   "source": [
    "### Notebook setup"
   ]
  },
  {
   "cell_type": "code",
   "execution_count": 4,
   "metadata": {
    "execution": {
     "iopub.execute_input": "2023-05-04T10:33:08.685124Z",
     "iopub.status.busy": "2023-05-04T10:33:08.684823Z",
     "iopub.status.idle": "2023-05-04T10:33:08.696505Z",
     "shell.execute_reply": "2023-05-04T10:33:08.695571Z",
     "shell.execute_reply.started": "2023-05-04T10:33:08.685097Z"
    },
    "id": "XWlAoE1QLlkl"
   },
   "outputs": [],
   "source": [
    "pd.set_option('display.max_columns', 100)\n",
    "warnings.filterwarnings('ignore')"
   ]
  },
  {
   "cell_type": "markdown",
   "metadata": {
    "id": "_e6pxmqQi9Zv"
   },
   "source": [
    "### Loading data\n",
    "\n",
    "For the `ga_hits.csv` file, only the 'session_id' and 'event_action' columns need to be loaded, since the others are not used."
   ]
  },
  {
   "cell_type": "code",
   "execution_count": 5,
   "metadata": {
    "execution": {
     "iopub.execute_input": "2023-05-04T10:33:08.698336Z",
     "iopub.status.busy": "2023-05-04T10:33:08.697971Z",
     "iopub.status.idle": "2023-05-04T10:34:38.119260Z",
     "shell.execute_reply": "2023-05-04T10:34:38.118214Z",
     "shell.execute_reply.started": "2023-05-04T10:33:08.698307Z"
    },
    "id": "phTdIgg9MQkL"
   },
   "outputs": [],
   "source": [
    "sessions = pd.read_csv('data/ga_sessions.csv', dtype={\"client_id\": \"string\"})\n",
    "hits = pd.read_csv('data/ga_hits.csv', usecols=['session_id', 'event_action'])"
   ]
  },
  {
   "cell_type": "markdown",
   "metadata": {
    "id": "sG0_hMFGB9dn"
   },
   "source": [
    "## Data preparation"
   ]
  },
  {
   "cell_type": "markdown",
   "metadata": {
    "id": "O1OIZL9lr4tl"
   },
   "source": [
    "### Target variable\n",
    "\n",
    "The target variable is considered positive if the session from `sessions` has at least one target event in `hits`."
   ]
  },
  {
   "cell_type": "code",
   "execution_count": 6,
   "metadata": {
    "execution": {
     "iopub.execute_input": "2023-05-04T10:34:38.122282Z",
     "iopub.status.busy": "2023-05-04T10:34:38.121776Z",
     "iopub.status.idle": "2023-05-04T10:34:47.627959Z",
     "shell.execute_reply": "2023-05-04T10:34:47.626958Z",
     "shell.execute_reply.started": "2023-05-04T10:34:38.122242Z"
    },
    "id": "M5fWRJzNvsg_"
   },
   "outputs": [],
   "source": [
    "hits['target'] = hits['event_action'].isin(target_events)\n",
    "is_target_event = hits.groupby('session_id')['target'].any().astype(int)"
   ]
  },
  {
   "cell_type": "code",
   "execution_count": 7,
   "metadata": {
    "colab": {
     "base_uri": "https://localhost:8080/"
    },
    "execution": {
     "iopub.execute_input": "2023-05-04T10:34:47.629539Z",
     "iopub.status.busy": "2023-05-04T10:34:47.629202Z",
     "iopub.status.idle": "2023-05-04T10:34:49.962261Z",
     "shell.execute_reply": "2023-05-04T10:34:49.961281Z",
     "shell.execute_reply.started": "2023-05-04T10:34:47.629502Z"
    },
    "id": "BqV9-6p7wgmj",
    "outputId": "754192e6-374d-4c7b-81ce-a931a9eceb56"
   },
   "outputs": [
    {
     "data": {
      "text/plain": [
       "0.0    0.97295\n",
       "1.0    0.02705\n",
       "Name: target, dtype: float64"
      ]
     },
     "execution_count": 7,
     "metadata": {},
     "output_type": "execute_result"
    }
   ],
   "source": [
    "target = pd.Series(is_target_event, index=sessions['session_id']).fillna(0.0)\n",
    "target.value_counts(dropna=False, normalize=True)"
   ]
  },
  {
   "cell_type": "code",
   "execution_count": 8,
   "metadata": {
    "execution": {
     "iopub.execute_input": "2023-05-04T10:34:49.964349Z",
     "iopub.status.busy": "2023-05-04T10:34:49.963574Z",
     "iopub.status.idle": "2023-05-04T10:34:50.214135Z",
     "shell.execute_reply": "2023-05-04T10:34:50.213308Z",
     "shell.execute_reply.started": "2023-05-04T10:34:49.964307Z"
    },
    "id": "VuTc3J5CkhkT"
   },
   "outputs": [],
   "source": [
    "del hits"
   ]
  },
  {
   "cell_type": "markdown",
   "metadata": {
    "id": "r5K3svqb1tjM"
   },
   "source": [
    "### Fill in the blanks\n",
    "\n",
    "Gaps in the `device_screen_resolution` column are filled with the most frequent value.\n",
    "All other gaps in the columns are filled with the value '(nan)'."
   ]
  },
  {
   "cell_type": "code",
   "execution_count": 9,
   "metadata": {
    "execution": {
     "iopub.execute_input": "2023-05-04T10:34:50.216082Z",
     "iopub.status.busy": "2023-05-04T10:34:50.215451Z",
     "iopub.status.idle": "2023-05-04T10:34:50.225634Z",
     "shell.execute_reply": "2023-05-04T10:34:50.224738Z",
     "shell.execute_reply.started": "2023-05-04T10:34:50.216047Z"
    },
    "id": "hPrvYDhY1QfY"
   },
   "outputs": [],
   "source": [
    "def fill_missings(data: pd.DataFrame) -> pd.DataFrame:\n",
    "    \"\"\"Fills in missing values:\n",
    "    * the most common value for `device_screen_resolution`;\n",
    "    * value '(nan)' in all other cases.\n",
    "    \"\"\"\n",
    "\n",
    "    data = data.copy()\n",
    "\n",
    "    if 'device_screen_resolution' in data.columns:\n",
    "        # '414x896' is the most frequent value in 'device_screen_resolution'\n",
    "        # according to preliminary data analysis\n",
    "        data['device_screen_resolution'] = data['device_screen_resolution'].replace(missing_values, '414x896')\n",
    "    \n",
    "    return data.fillna('(nan)')"
   ]
  },
  {
   "cell_type": "markdown",
   "metadata": {
    "id": "4jwtfKo29Ad7"
   },
   "source": [
    "### Generation of features\n",
    "\n",
    "A lot of additional variables are created: day of the week and day of the month, whether the day is a weekend, the hour and minute of the visit, whether the visit is at night, width, height, area and screen ratio.\n",
    "\n",
    "Including with additional data: whether the day is a holiday, whether the traffic is organic, whether it comes from social networks, whether the user is in a big city or in the Moscow region, the distance to Moscow, both numerically and in the form of categories."
   ]
  },
  {
   "cell_type": "code",
   "execution_count": 10,
   "metadata": {
    "execution": {
     "iopub.execute_input": "2023-05-04T10:34:50.228702Z",
     "iopub.status.busy": "2023-05-04T10:34:50.228366Z",
     "iopub.status.idle": "2023-05-04T10:34:50.237215Z",
     "shell.execute_reply": "2023-05-04T10:34:50.236087Z",
     "shell.execute_reply.started": "2023-05-04T10:34:50.228676Z"
    },
    "id": "RmS25hxv_s8V"
   },
   "outputs": [],
   "source": [
    "def distance_category(distance: float) -> str:\n",
    "    \"\"\"\n",
    "    Returns the distance category to Moscow.\n",
    "    \"\"\"\n",
    "\n",
    "    if distance == -1: return 'no distance'\n",
    "    elif distance == 0: return 'moscow'\n",
    "    elif distance < 100: return '< 100 km'\n",
    "    elif distance < 500: return '100-500 km'\n",
    "    elif distance < 1000: return '500-1000 km'\n",
    "    elif distance < 3000: return '1000-3000 km'\n",
    "    else: return '>= 3000 km'"
   ]
  },
  {
   "cell_type": "code",
   "execution_count": 11,
   "metadata": {
    "execution": {
     "iopub.execute_input": "2023-05-04T10:34:50.238695Z",
     "iopub.status.busy": "2023-05-04T10:34:50.238421Z",
     "iopub.status.idle": "2023-05-04T10:34:50.251043Z",
     "shell.execute_reply": "2023-05-04T10:34:50.249983Z",
     "shell.execute_reply.started": "2023-05-04T10:34:50.238671Z"
    },
    "id": "MXGGgtUq2frS"
   },
   "outputs": [],
   "source": [
    "def create_features(data: pd.DataFrame) -> pd.DataFrame:\n",
    "    \"\"\"\n",
    "    Creates new features from existing ones.\n",
    "    \"\"\"\n",
    "\n",
    "    data = data.copy()\n",
    "    \n",
    "    # visit_date signs\n",
    "    if 'visit_date' in data.columns:\n",
    "        data['visit_date'] = data['visit_date'].astype('datetime64[ns]')\n",
    "        data['visit_date_added_holiday'] = \\\n",
    "            data['visit_date'].isin(russian_holidays)\n",
    "        # make numerical features strictly positive\n",
    "        # for better handling in step with YeoJohnsonTransformer\n",
    "        data['visit_date_weekday'] = data['visit_date'].dt.weekday + 1\n",
    "        data['visit_date_weekend'] = data['visit_date'].dt.weekday > 4\n",
    "        data['visit_date_day'] = data['visit_date'].dt.day + 1\n",
    "\n",
    "    # visit_time signs\n",
    "    if 'visit_time' in data.columns:\n",
    "        data['visit_time'] = data['visit_time'].astype('datetime64[ns]')\n",
    "        data['visit_time_hour'] = data['visit_time'].dt.hour + 1\n",
    "        data['visit_time_minute'] = data['visit_time'].dt.minute + 1\n",
    "        data['visit_time_night'] = data['visit_time'].dt.hour < 9\n",
    "\n",
    "    # utm_* signs\n",
    "    if 'utm_medium' in data.columns:\n",
    "        data['utm_medium_added_is_organic'] = \\\n",
    "            data['utm_medium'].isin(organic_mediums)\n",
    "    if 'utm_source' in data.columns:\n",
    "        data['utm_source_added_is_social'] = \\\n",
    "            data['utm_source'].isin(social_media_sources)\n",
    "    \n",
    "    # device_screen features\n",
    "    if 'device_screen_resolution' in data.columns:\n",
    "        name='device_screen_resolution'\n",
    "        data[[name + '_width', name + '_height']] = \\\n",
    "            data[name].str.split('x', expand=True).astype(float)\n",
    "        data[name + '_area'] = data[name + '_width'] * data[name + '_height']\n",
    "        data[name + '_ratio'] = data[name + '_width'] / data[name + '_height']\n",
    "        data[name + '_ratio_greater_1'] = data[name + '_ratio'] > 1\n",
    "\n",
    "    # geo_city features\n",
    "    if 'geo_city' in data.columns:\n",
    "        data['geo_city_added_is_moscow_region'] = \\\n",
    "            data['geo_city'].isin(moscow_region_cities)\n",
    "        data['geo_city_added_is_big'] = data['geo_city'].isin(big_cities)\n",
    "        data['geo_city_is_big_or_in_moscow_region'] = \\\n",
    "            data['geo_city_added_is_moscow_region'] \\\n",
    "            | data['geo_city_added_is_big']\n",
    "        data['geo_city_added_distance_from_moscow'] = \\\n",
    "            data['geo_city'].apply(get_distance_from_moscow)\n",
    "        data['geo_city_added_distance_from_moscow_category'] = \\\n",
    "            data['geo_city_added_distance_from_moscow'].apply(distance_category)\n",
    "\n",
    "    return data"
   ]
  },
  {
   "cell_type": "markdown",
   "metadata": {
    "id": "SdmCT5bFkTpy"
   },
   "source": [
    "### Additional"
   ]
  },
  {
   "cell_type": "code",
   "execution_count": 12,
   "metadata": {
    "execution": {
     "iopub.execute_input": "2023-05-04T10:34:50.253162Z",
     "iopub.status.busy": "2023-05-04T10:34:50.252500Z",
     "iopub.status.idle": "2023-05-04T10:34:50.266097Z",
     "shell.execute_reply": "2023-05-04T10:34:50.265022Z",
     "shell.execute_reply.started": "2023-05-04T10:34:50.253122Z"
    },
    "id": "-h_M6P4-5Gag"
   },
   "outputs": [],
   "source": [
    "def set_index(data: pd.DataFrame, column: str = 'session_id') -> pd.DataFrame:\n",
    "    \"\"\"\n",
    "    Sets the dataframe index to the `column` column.\n",
    "    \"\"\"\n",
    "    \n",
    "    data = data.copy()\n",
    "\n",
    "    if column in data.columns:\n",
    "        data = data.set_index(column)\n",
    "    \n",
    "    return data"
   ]
  },
  {
   "cell_type": "code",
   "execution_count": 13,
   "metadata": {
    "execution": {
     "iopub.execute_input": "2023-05-04T10:34:50.268052Z",
     "iopub.status.busy": "2023-05-04T10:34:50.267443Z",
     "iopub.status.idle": "2023-05-04T10:34:50.276774Z",
     "shell.execute_reply": "2023-05-04T10:34:50.275670Z",
     "shell.execute_reply.started": "2023-05-04T10:34:50.268020Z"
    },
    "id": "XVHwnlccAUWB"
   },
   "outputs": [],
   "source": [
    "def converse_types(data: pd.DataFrame) -> pd.DataFrame:\n",
    "    \"\"\"\n",
    "    Casts variable types to float. First of all needed to convert bool values.\n",
    "    \"\"\"\n",
    "\n",
    "    return data.astype(float)"
   ]
  },
  {
   "cell_type": "markdown",
   "metadata": {
    "id": "I4Owup725D1u"
   },
   "source": [
    "### Conveyor assembly\n",
    "\n",
    "The data preparation pipeline consists of 4 parts:\n",
    "1. Creation of additional features\n",
    "2. Transformation of numerical variables\n",
    "3. Transformation of categorical variables\n",
    "4. Removing unnecessary features"
   ]
  },
  {
   "cell_type": "code",
   "execution_count": 14,
   "metadata": {
    "execution": {
     "iopub.execute_input": "2023-05-04T10:34:50.278328Z",
     "iopub.status.busy": "2023-05-04T10:34:50.277946Z",
     "iopub.status.idle": "2023-05-04T10:34:50.288622Z",
     "shell.execute_reply": "2023-05-04T10:34:50.287648Z",
     "shell.execute_reply.started": "2023-05-04T10:34:50.278300Z"
    },
    "id": "4aBifLGa14rl"
   },
   "outputs": [],
   "source": [
    "preprocessor = Pipeline(steps=[\n",
    "\n",
    "    # Create additional features and\n",
    "    # Bringing the dataframe to a convenient form\n",
    "    ('indexer', FunctionTransformer(set_index)),\n",
    "    ('imputer', FunctionTransformer(fill_missings)),\n",
    "    ('engineer', FunctionTransformer(create_features)),\n",
    "    ('dropper', DropFeatures(['client_id', 'visit_date', 'visit_time', 'device_screen_resolution'])),\n",
    "\n",
    "    # Transformations of numerical variables\n",
    "    ('normalization', YeoJohnsonTransformer()),\n",
    "    ('outlier_remover', Winsorizer()),\n",
    "    ('scaler', SklearnTransformerWrapper(StandardScaler())),\n",
    "\n",
    "    # Transformations of categorical features\n",
    "    ('rare_encoder', RareLabelEncoder(tol=0.05, replace_with='rare')),\n",
    "    ('onehot_encoder', OneHotEncoder(drop_last_binary=True)),\n",
    "    ('bool_converter', FunctionTransformer(converse_types)),\n",
    "\n",
    "    # Removing duplicates and correlated features\n",
    "    ('constant_dropper', DropConstantFeatures(tol=0.99)),\n",
    "    ('duplicated_dropper', DropDuplicateFeatures()),\n",
    "    ('correlated_dropper', DropCorrelatedFeatures(threshold=0.8)),\n",
    "\n",
    "])"
   ]
  },
  {
   "cell_type": "markdown",
   "metadata": {
    "id": "Vapx7kE14bXl"
   },
   "source": [
    "## Modeling"
   ]
  },
  {
   "cell_type": "markdown",
   "metadata": {
    "id": "p7no5DMn5KQA"
   },
   "source": [
    "### Data separation\n",
    "\n",
    "We divide the data into training, validation and test sets."
   ]
  },
  {
   "cell_type": "code",
   "execution_count": 15,
   "metadata": {
    "colab": {
     "base_uri": "https://localhost:8080/"
    },
    "execution": {
     "iopub.execute_input": "2023-05-04T10:34:50.290151Z",
     "iopub.status.busy": "2023-05-04T10:34:50.289824Z",
     "iopub.status.idle": "2023-05-04T10:35:00.607775Z",
     "shell.execute_reply": "2023-05-04T10:35:00.606749Z",
     "shell.execute_reply.started": "2023-05-04T10:34:50.290125Z"
    },
    "id": "IbEwzDFl5SBC",
    "outputId": "fe8d6058-adff-403e-e6bb-9c3303eac4d1"
   },
   "outputs": [
    {
     "name": "stdout",
     "output_type": "stream",
     "text": [
      "train shapes: (1460042, 18) (1460042,)\n",
      "valid shapes: (200000, 18) (200000,)\n",
      "test  shapes: (200000, 18) (200000,)\n"
     ]
    }
   ],
   "source": [
    "X, X_test, y, y_test = train_test_split(\n",
    "    sessions, target, test_size=TEST_SIZE, \n",
    "    stratify=target, random_state=RANDOM_SEED)\n",
    "\n",
    "X_train, X_valid, y_train, y_valid = train_test_split(\n",
    "    X, y, test_size=TEST_SIZE, \n",
    "    stratify=y, random_state=RANDOM_SEED)\n",
    "\n",
    "print(f'train shapes: {X_train.shape} {y_train.shape}')\n",
    "print(f'valid shapes: {X_valid.shape} {y_valid.shape}')\n",
    "print(f'test  shapes: {X_test.shape} {y_test.shape}')"
   ]
  },
  {
   "cell_type": "markdown",
   "metadata": {
    "id": "faISJrub1s56"
   },
   "source": [
    "### Data preprocessing\n",
    "\n",
    "Transform the training and validation data using the constructed pipeline."
   ]
  },
  {
   "cell_type": "code",
   "execution_count": 16,
   "metadata": {
    "colab": {
     "base_uri": "https://localhost:8080/"
    },
    "execution": {
     "iopub.execute_input": "2023-05-04T10:35:00.609397Z",
     "iopub.status.busy": "2023-05-04T10:35:00.609058Z",
     "iopub.status.idle": "2023-05-04T10:37:15.643491Z",
     "shell.execute_reply": "2023-05-04T10:37:15.641780Z",
     "shell.execute_reply.started": "2023-05-04T10:35:00.609364Z"
    },
    "id": "2vtF_r6P1sen",
    "outputId": "491885c9-2d6a-4a7e-d1a2-1e5325b51986"
   },
   "outputs": [
    {
     "name": "stdout",
     "output_type": "stream",
     "text": [
      "X_train.shape = (1460042, 55)\n"
     ]
    }
   ],
   "source": [
    "X_train_preprocessed = preprocessor.fit_transform(X_train)\n",
    "X_valid_preprocessed = preprocessor.transform(X_valid)\n",
    "\n",
    "print(f'X_train.shape = {X_train_preprocessed.shape}')"
   ]
  },
  {
   "cell_type": "markdown",
   "metadata": {
    "id": "-G6lNagZNfgM"
   },
   "source": [
    "### Choice of metrics\n",
    "\n",
    "We will use `roc_auc` as the main metric. But let's also look at other metrics: `accuracy`, `precision`, `recall`, `f1`."
   ]
  },
  {
   "cell_type": "code",
   "execution_count": 17,
   "metadata": {
    "execution": {
     "iopub.execute_input": "2023-05-04T10:37:15.645815Z",
     "iopub.status.busy": "2023-05-04T10:37:15.645476Z",
     "iopub.status.idle": "2023-05-04T10:37:15.659648Z",
     "shell.execute_reply": "2023-05-04T10:37:15.658433Z",
     "shell.execute_reply.started": "2023-05-04T10:37:15.645782Z"
    },
    "id": "klHCY5FJOgDz"
   },
   "outputs": [],
   "source": [
    "def find_best_threshold(\n",
    "    y_true: pd.Series, \n",
    "    y_proba: pd.Series, \n",
    "    metriс_name: str = 'roc_auc', \n",
    "    iterations: int = 250, \n",
    "    learning_rate: float = 0.05\n",
    ") -> float:\n",
    "    \"\"\"\n",
    "    Finds the best translation threshold for `y_proba` probabilities in class 1.\n",
    "    \"\"\"\n",
    "    \n",
    "    # Getting the function of the metric that we optimize\n",
    "    metrics = {'roc_auc': roc_auc_score, 'f1': f1_score, \n",
    "               'precision': precision_score, 'recall': recall_score}\n",
    "    metric_function = metrics.get(metriс_name, accuracy_score)\n",
    "\n",
    "    # Getting metric\n",
    "    def get_metric(threshold: float) -> float:\n",
    "        prediction = (y_proba > threshold).astype(int)\n",
    "        return metric_function(y_true, prediction)\n",
    "\n",
    "    direction = -1\n",
    "    shift = 0.25\n",
    "\n",
    "    best_threshold = 0.5\n",
    "    best_metric = get_metric(best_threshold)\n",
    "\n",
    "    # At every iteration\n",
    "    for i in range(iterations):\n",
    "\n",
    "        # Change the threshold\n",
    "        threshold = best_threshold + direction * shift\n",
    "        shift *= (1 - learning_rate)\n",
    "        metric = get_metric(threshold)\n",
    "\n",
    "        # And check if the metric has improved\n",
    "        if metric > best_metric: \n",
    "            best_threshold = threshold\n",
    "            best_metric = metric\n",
    "        else: \n",
    "            direction *= -1\n",
    "            \n",
    "    return best_threshold"
   ]
  },
  {
   "cell_type": "code",
   "execution_count": 18,
   "metadata": {
    "execution": {
     "iopub.execute_input": "2023-05-04T10:37:15.662117Z",
     "iopub.status.busy": "2023-05-04T10:37:15.661470Z",
     "iopub.status.idle": "2023-05-04T10:37:15.679766Z",
     "shell.execute_reply": "2023-05-04T10:37:15.678530Z",
     "shell.execute_reply.started": "2023-05-04T10:37:15.662074Z"
    },
    "id": "Gy9AoqAeowRX"
   },
   "outputs": [],
   "source": [
    "def print_metrics(\n",
    "    model: BaseEstimator, \n",
    "    X: pd.DataFrame, \n",
    "    y: pd.Series, \n",
    "    threshold: Union[float, None] = None, \n",
    "    show_roc_curve: bool = False\n",
    ") -> None:\n",
    "    \"\"\"\n",
    "    Gets binary classification metrics from `model` on the data `X` and `y`. \n",
    "    If possible, then through the `predict_proba` method with the given\n",
    "    threshold for translating probabilities into `threshold` classes, otherwise through `predict`.\n",
    "    If `threshold` is None, it will automatically find the best threshold.\n",
    "    ---\n",
    "    Metrics: roc_auc, accuracy, precision, recall, f1, confusion_matrix, roc_curve.\n",
    "    \"\"\"\n",
    "\n",
    "    # Get predictions, if possible, in the form of probabilities\n",
    "    try: \n",
    "        probas = model.predict_proba(X)[:, 1]\n",
    "    except AttributeError:\n",
    "        prediction = model.predict(X)\n",
    "        threshold = None\n",
    "        probas = None\n",
    "    else:\n",
    "        threshold = threshold or find_best_threshold(y, probas, 'roc_auc')\n",
    "        prediction = (probas > threshold).astype(int)\n",
    "\n",
    "    # Print the threshold for translating probabilities into classes\n",
    "    if threshold is None:\n",
    "        print(\"Threshold for translating probabilities into classes: not used\")\n",
    "    else:\n",
    "        print(f\"Threshold for translating probabilities into classes: {threshold}\")\n",
    "        print(f\"{roc_auc_score(y, probas)} - roc_auc on probabilities\")\n",
    "\n",
    "    # Print one-line metrics\n",
    "    print()\n",
    "    print(f\"{roc_auc_score(y, prediction):0.8f} - roc_auc\")\n",
    "    print(f\"{accuracy_score(y, prediction):0.8f} - accuracy\")\n",
    "    print(f\"{precision_score(y, prediction):0.8f} - precision\")\n",
    "    print(f\"{recall_score(y, prediction):0.8f} - recall\")\n",
    "    print(f\"{f1_score(y, prediction):0.8f} - f1\")\n",
    "\n",
    "    # Print out the error matrix\n",
    "    conf_mat = confusion_matrix(y, prediction)\n",
    "    classes = model.classes_\n",
    "    n_classes = len(classes)\n",
    "    print()\n",
    "    print(\"|\".join(f\"{i:^10}\" for i in [\"prediction\"] + list(classes)))\n",
    "    print(f\"{'true label':^10}\" + (\"|\" + \" \" * 10) * n_classes)\n",
    "    print(\"-\" * ((n_classes * 10) + n_classes + 10))\n",
    "    for i in range(n_classes):\n",
    "        print(\"|\".join(f\"{j:>10}\" for j in [classes[i]] + list(conf_mat[i])))\n",
    "\n",
    "    # Display the ROC curve\n",
    "    if show_roc_curve:\n",
    "        print()\n",
    "        plt.figure(figsize=(7, 4))\n",
    "        if probas is not None:\n",
    "            plt.plot(*roc_curve(y_test, probas)[:2], \n",
    "                     c='r', label='on probability')\n",
    "        plt.plot(*roc_curve(y_test, prediction)[:2], c='b', label='on class')\n",
    "        plt.plot([0, 1], [0, 1], c='y', label='random', linestyle='dashed')\n",
    "        plt.title('Receiver operating characteristic')\n",
    "        plt.xlabel('False Positive Rate')\n",
    "        plt.ylabel('True Positive Rate')\n",
    "        plt.legend()\n",
    "        plt.show()"
   ]
  },
  {
   "cell_type": "markdown",
   "metadata": {
    "id": "Fm7hN89g4g4_"
   },
   "source": [
    "### Base model\n",
    "\n",
    "Since the target variable is not evenly distributed, then as a baseline, you can choose a strategy that predicts the value 0 for each session."
   ]
  },
  {
   "cell_type": "code",
   "execution_count": 19,
   "metadata": {
    "colab": {
     "base_uri": "https://localhost:8080/"
    },
    "execution": {
     "iopub.execute_input": "2023-05-04T10:37:15.682469Z",
     "iopub.status.busy": "2023-05-04T10:37:15.681397Z",
     "iopub.status.idle": "2023-05-04T10:37:16.360325Z",
     "shell.execute_reply": "2023-05-04T10:37:16.359245Z",
     "shell.execute_reply.started": "2023-05-04T10:37:15.682436Z"
    },
    "id": "MoTDCM7V4FUm",
    "outputId": "9e083a1b-b379-488e-c3f4-f51f4451742a"
   },
   "outputs": [
    {
     "name": "stdout",
     "output_type": "stream",
     "text": [
      "Threshold for translating probabilities into classes: 0.5\n",
      "0.5 - roc_auc on probabilities\n",
      "\n",
      "0.50000000 - roc_auc\n",
      "0.97295000 - accuracy\n",
      "0.00000000 - precision\n",
      "0.00000000 - recall\n",
      "0.00000000 - f1\n",
      "\n",
      "prediction|   0.0    |   1.0    \n",
      "true label|          |          \n",
      "--------------------------------\n",
      "       0.0|    194590|         0\n",
      "       1.0|      5410|         0\n"
     ]
    }
   ],
   "source": [
    "# Train the base model\n",
    "baseline = DummyClassifier(strategy='constant', constant=0)\n",
    "baseline.fit(X_train_preprocessed, y_train)\n",
    "\n",
    "# And get its metrics\n",
    "print_metrics(baseline, X_valid_preprocessed, y_valid, 0.5)"
   ]
  },
  {
   "cell_type": "markdown",
   "metadata": {
    "id": "PWvFBh-uZo0b"
   },
   "source": [
    "### Model selection\n",
    "\n",
    "We will train several models, evaluate them on the validation set and choose the best one, which we will already optimize."
   ]
  },
  {
   "cell_type": "markdown",
   "metadata": {
    "id": "mx3teaVL1vJH"
   },
   "source": [
    "Logistic regression"
   ]
  },
  {
   "cell_type": "code",
   "execution_count": 20,
   "metadata": {
    "execution": {
     "iopub.execute_input": "2023-05-04T10:37:16.362047Z",
     "iopub.status.busy": "2023-05-04T10:37:16.361690Z",
     "iopub.status.idle": "2023-05-04T10:37:16.367629Z",
     "shell.execute_reply": "2023-05-04T10:37:16.366627Z",
     "shell.execute_reply.started": "2023-05-04T10:37:16.362018Z"
    },
    "id": "MQN5cdrGBsAl"
   },
   "outputs": [],
   "source": [
    "logreg = LogisticRegression(random_state=RANDOM_SEED)"
   ]
  },
  {
   "cell_type": "code",
   "execution_count": 21,
   "metadata": {
    "colab": {
     "base_uri": "https://localhost:8080/"
    },
    "execution": {
     "iopub.execute_input": "2023-05-04T10:37:16.369796Z",
     "iopub.status.busy": "2023-05-04T10:37:16.369292Z",
     "iopub.status.idle": "2023-05-04T10:37:43.487507Z",
     "shell.execute_reply": "2023-05-04T10:37:43.486343Z",
     "shell.execute_reply.started": "2023-05-04T10:37:16.369758Z"
    },
    "id": "HmSC_wnWt7CO",
    "outputId": "d22897ac-3f5f-47ab-ad03-6b22e0f09a02"
   },
   "outputs": [
    {
     "name": "stdout",
     "output_type": "stream",
     "text": [
      "CPU times: user 1min 21s, sys: 22.4 s, total: 1min 44s\n",
      "Wall time: 27.1 s\n"
     ]
    }
   ],
   "source": [
    "%%time\n",
    "logreg.fit(X_train_preprocessed, y_train);"
   ]
  },
  {
   "cell_type": "code",
   "execution_count": 22,
   "metadata": {
    "colab": {
     "base_uri": "https://localhost:8080/"
    },
    "execution": {
     "iopub.execute_input": "2023-05-04T10:37:43.503496Z",
     "iopub.status.busy": "2023-05-04T10:37:43.502575Z",
     "iopub.status.idle": "2023-05-04T10:37:52.794276Z",
     "shell.execute_reply": "2023-05-04T10:37:52.793184Z",
     "shell.execute_reply.started": "2023-05-04T10:37:43.503449Z"
    },
    "id": "TwU_sjsouHq4",
    "outputId": "795b7551-fcba-4c81-b120-dacde071370f"
   },
   "outputs": [
    {
     "name": "stdout",
     "output_type": "stream",
     "text": [
      "Threshold for translating probabilities into classes: 0.5\n",
      "0.6683645161697864 - roc_auc on probabilities\n",
      "\n",
      "0.50000000 - roc_auc\n",
      "0.97295000 - accuracy\n",
      "0.00000000 - precision\n",
      "0.00000000 - recall\n",
      "0.00000000 - f1\n",
      "\n",
      "prediction|   0.0    |   1.0    \n",
      "true label|          |          \n",
      "--------------------------------\n",
      "       0.0|    194590|         0\n",
      "       1.0|      5410|         0\n"
     ]
    }
   ],
   "source": [
    "print_metrics(logreg, X_valid_preprocessed, y_valid)"
   ]
  },
  {
   "cell_type": "markdown",
   "metadata": {
    "id": "ibVp5DdMJzS6"
   },
   "source": [
    "Support vector classifier"
   ]
  },
  {
   "cell_type": "code",
   "execution_count": 23,
   "metadata": {
    "execution": {
     "iopub.execute_input": "2023-05-04T10:37:52.795884Z",
     "iopub.status.busy": "2023-05-04T10:37:52.795573Z",
     "iopub.status.idle": "2023-05-04T10:37:52.801134Z",
     "shell.execute_reply": "2023-05-04T10:37:52.800105Z",
     "shell.execute_reply.started": "2023-05-04T10:37:52.795857Z"
    },
    "id": "FIH3-eifJ3Ik"
   },
   "outputs": [],
   "source": [
    "svc = LinearSVC(class_weight='balanced')"
   ]
  },
  {
   "cell_type": "code",
   "execution_count": 24,
   "metadata": {
    "colab": {
     "base_uri": "https://localhost:8080/"
    },
    "execution": {
     "iopub.execute_input": "2023-05-04T10:37:52.803705Z",
     "iopub.status.busy": "2023-05-04T10:37:52.803169Z",
     "iopub.status.idle": "2023-05-04T10:54:16.167005Z",
     "shell.execute_reply": "2023-05-04T10:54:16.165643Z",
     "shell.execute_reply.started": "2023-05-04T10:37:52.803588Z"
    },
    "id": "rOSy-TIcJ3EE",
    "outputId": "a7249970-0541-43b1-fc57-4195235ab6f1"
   },
   "outputs": [
    {
     "name": "stdout",
     "output_type": "stream",
     "text": [
      "CPU times: user 16min 21s, sys: 1.04 s, total: 16min 22s\n",
      "Wall time: 16min 23s\n"
     ]
    }
   ],
   "source": [
    "%%time\n",
    "svc.fit(X_train_preprocessed, y_train);"
   ]
  },
  {
   "cell_type": "code",
   "execution_count": 25,
   "metadata": {
    "colab": {
     "base_uri": "https://localhost:8080/"
    },
    "execution": {
     "iopub.execute_input": "2023-05-04T10:54:16.169251Z",
     "iopub.status.busy": "2023-05-04T10:54:16.168853Z",
     "iopub.status.idle": "2023-05-04T10:54:16.871193Z",
     "shell.execute_reply": "2023-05-04T10:54:16.869884Z",
     "shell.execute_reply.started": "2023-05-04T10:54:16.169207Z"
    },
    "id": "3MM_qupCKUuU",
    "outputId": "2ded8b17-c265-44fa-f036-03b86b7ec8b1"
   },
   "outputs": [
    {
     "name": "stdout",
     "output_type": "stream",
     "text": [
      "Threshold for translating probabilities into classes: not used\n",
      "\n",
      "0.62072316 - roc_auc\n",
      "0.61829500 - accuracy\n",
      "0.04341165 - precision\n",
      "0.62329020 - recall\n",
      "0.08116989 - f1\n",
      "\n",
      "prediction|   0.0    |   1.0    \n",
      "true label|          |          \n",
      "--------------------------------\n",
      "       0.0|    120287|     74303\n",
      "       1.0|      2038|      3372\n"
     ]
    }
   ],
   "source": [
    "print_metrics(svc, X_valid_preprocessed, y_valid)"
   ]
  },
  {
   "cell_type": "markdown",
   "metadata": {
    "id": "Z8jQU-SKCPXh"
   },
   "source": [
    "Neural network"
   ]
  },
  {
   "cell_type": "code",
   "execution_count": 26,
   "metadata": {
    "execution": {
     "iopub.execute_input": "2023-05-04T10:54:16.872961Z",
     "iopub.status.busy": "2023-05-04T10:54:16.872633Z",
     "iopub.status.idle": "2023-05-04T10:54:16.879113Z",
     "shell.execute_reply": "2023-05-04T10:54:16.877792Z",
     "shell.execute_reply.started": "2023-05-04T10:54:16.872933Z"
    },
    "id": "I1CuFrrmCOaX"
   },
   "outputs": [],
   "source": [
    "mlp = MLPClassifier((32,), random_state=RANDOM_SEED)"
   ]
  },
  {
   "cell_type": "code",
   "execution_count": 27,
   "metadata": {
    "colab": {
     "base_uri": "https://localhost:8080/"
    },
    "execution": {
     "iopub.execute_input": "2023-05-04T10:54:16.881568Z",
     "iopub.status.busy": "2023-05-04T10:54:16.881160Z",
     "iopub.status.idle": "2023-05-04T10:57:16.749579Z",
     "shell.execute_reply": "2023-05-04T10:57:16.748372Z",
     "shell.execute_reply.started": "2023-05-04T10:54:16.881527Z"
    },
    "id": "tGqKzgskCOa3",
    "outputId": "c2f3a0be-79f6-4d38-df54-7b8a473a3ff7"
   },
   "outputs": [
    {
     "name": "stdout",
     "output_type": "stream",
     "text": [
      "CPU times: user 6min 38s, sys: 4min 58s, total: 11min 37s\n",
      "Wall time: 2min 59s\n"
     ]
    }
   ],
   "source": [
    "%%time\n",
    "mlp.fit(X_train_preprocessed, y_train);"
   ]
  },
  {
   "cell_type": "code",
   "execution_count": 28,
   "metadata": {
    "colab": {
     "base_uri": "https://localhost:8080/"
    },
    "execution": {
     "iopub.execute_input": "2023-05-04T10:57:16.752362Z",
     "iopub.status.busy": "2023-05-04T10:57:16.751540Z",
     "iopub.status.idle": "2023-05-04T10:57:26.366289Z",
     "shell.execute_reply": "2023-05-04T10:57:26.365069Z",
     "shell.execute_reply.started": "2023-05-04T10:57:16.752314Z"
    },
    "id": "GWrCizlgCOa4",
    "outputId": "1f9249a7-7436-4fb1-b1d8-b9419b75e01c"
   },
   "outputs": [
    {
     "name": "stdout",
     "output_type": "stream",
     "text": [
      "Threshold for translating probabilities into classes: 0.5\n",
      "0.6983782119645087 - roc_auc on probabilities\n",
      "\n",
      "0.50000000 - roc_auc\n",
      "0.97295000 - accuracy\n",
      "0.00000000 - precision\n",
      "0.00000000 - recall\n",
      "0.00000000 - f1\n",
      "\n",
      "prediction|   0.0    |   1.0    \n",
      "true label|          |          \n",
      "--------------------------------\n",
      "       0.0|    194590|         0\n",
      "       1.0|      5410|         0\n"
     ]
    }
   ],
   "source": [
    "print_metrics(mlp, X_valid_preprocessed, y_valid)"
   ]
  },
  {
   "cell_type": "markdown",
   "metadata": {
    "id": "fnB04lZh17ub"
   },
   "source": [
    "Bayesian classifier"
   ]
  },
  {
   "cell_type": "code",
   "execution_count": 29,
   "metadata": {
    "execution": {
     "iopub.execute_input": "2023-05-04T10:57:26.368074Z",
     "iopub.status.busy": "2023-05-04T10:57:26.367750Z",
     "iopub.status.idle": "2023-05-04T10:57:26.373576Z",
     "shell.execute_reply": "2023-05-04T10:57:26.372270Z",
     "shell.execute_reply.started": "2023-05-04T10:57:26.368045Z"
    },
    "id": "05T2TlUWBxHN"
   },
   "outputs": [],
   "source": [
    "gaussnb = GaussianNB()"
   ]
  },
  {
   "cell_type": "code",
   "execution_count": 30,
   "metadata": {
    "colab": {
     "base_uri": "https://localhost:8080/"
    },
    "execution": {
     "iopub.execute_input": "2023-05-04T10:57:26.375530Z",
     "iopub.status.busy": "2023-05-04T10:57:26.375151Z",
     "iopub.status.idle": "2023-05-04T10:57:28.170987Z",
     "shell.execute_reply": "2023-05-04T10:57:28.169799Z",
     "shell.execute_reply.started": "2023-05-04T10:57:26.375500Z"
    },
    "id": "-Xr1YU0v2FZq",
    "outputId": "e6c868b1-c9ea-4efa-fff6-1ad66baccdad"
   },
   "outputs": [
    {
     "name": "stdout",
     "output_type": "stream",
     "text": [
      "CPU times: user 1.21 s, sys: 580 ms, total: 1.79 s\n",
      "Wall time: 1.79 s\n"
     ]
    }
   ],
   "source": [
    "%%time\n",
    "gaussnb.fit(X_train_preprocessed, y_train);"
   ]
  },
  {
   "cell_type": "code",
   "execution_count": 31,
   "metadata": {
    "colab": {
     "base_uri": "https://localhost:8080/"
    },
    "execution": {
     "iopub.execute_input": "2023-05-04T10:57:28.172958Z",
     "iopub.status.busy": "2023-05-04T10:57:28.172510Z",
     "iopub.status.idle": "2023-05-04T10:57:39.485390Z",
     "shell.execute_reply": "2023-05-04T10:57:39.483924Z",
     "shell.execute_reply.started": "2023-05-04T10:57:28.172922Z"
    },
    "id": "mTmSxITR2FTk",
    "outputId": "28dc1f86-e74e-4028-e073-e908cd710fb0"
   },
   "outputs": [
    {
     "name": "stdout",
     "output_type": "stream",
     "text": [
      "Threshold for translating probabilities into classes: 0.05419511287276451\n",
      "0.6458839691283222 - roc_auc on probabilities\n",
      "\n",
      "0.60928251 - roc_auc\n",
      "0.56001500 - accuracy\n",
      "0.03986940 - precision\n",
      "0.66136784 - recall\n",
      "0.07520520 - f1\n",
      "\n",
      "prediction|   0.0    |   1.0    \n",
      "true label|          |          \n",
      "--------------------------------\n",
      "       0.0|    108425|     86165\n",
      "       1.0|      1832|      3578\n"
     ]
    }
   ],
   "source": [
    "print_metrics(gaussnb, X_valid_preprocessed, y_valid)"
   ]
  },
  {
   "cell_type": "markdown",
   "metadata": {
    "id": "BIZBspdkNsSP"
   },
   "source": [
    "Decision Tree"
   ]
  },
  {
   "cell_type": "code",
   "execution_count": 32,
   "metadata": {
    "execution": {
     "iopub.execute_input": "2023-05-04T10:57:39.488057Z",
     "iopub.status.busy": "2023-05-04T10:57:39.487589Z",
     "iopub.status.idle": "2023-05-04T10:57:39.494517Z",
     "shell.execute_reply": "2023-05-04T10:57:39.493072Z",
     "shell.execute_reply.started": "2023-05-04T10:57:39.488013Z"
    },
    "id": "UOlsEARaNr98"
   },
   "outputs": [],
   "source": [
    "tree = DecisionTreeClassifier(random_state=RANDOM_SEED)"
   ]
  },
  {
   "cell_type": "code",
   "execution_count": 33,
   "metadata": {
    "colab": {
     "base_uri": "https://localhost:8080/"
    },
    "execution": {
     "iopub.execute_input": "2023-05-04T10:57:39.497411Z",
     "iopub.status.busy": "2023-05-04T10:57:39.496785Z",
     "iopub.status.idle": "2023-05-04T10:58:23.270087Z",
     "shell.execute_reply": "2023-05-04T10:58:23.269022Z",
     "shell.execute_reply.started": "2023-05-04T10:57:39.497362Z"
    },
    "id": "2IUaLZBcN2hL",
    "outputId": "e90c5abb-65d5-48f3-f9eb-530da4ecc911"
   },
   "outputs": [
    {
     "name": "stdout",
     "output_type": "stream",
     "text": [
      "CPU times: user 43.7 s, sys: 61.7 ms, total: 43.7 s\n",
      "Wall time: 43.8 s\n"
     ]
    }
   ],
   "source": [
    "%%time\n",
    "tree.fit(X_train_preprocessed, y_train);"
   ]
  },
  {
   "cell_type": "code",
   "execution_count": 34,
   "metadata": {
    "colab": {
     "base_uri": "https://localhost:8080/"
    },
    "execution": {
     "iopub.execute_input": "2023-05-04T10:58:23.272067Z",
     "iopub.status.busy": "2023-05-04T10:58:23.271771Z",
     "iopub.status.idle": "2023-05-04T10:58:33.341632Z",
     "shell.execute_reply": "2023-05-04T10:58:33.340600Z",
     "shell.execute_reply.started": "2023-05-04T10:58:23.272041Z"
    },
    "id": "er40gzjIN2dV",
    "outputId": "cfe7c571-0b7c-4122-8b3e-ef2d20fdab55"
   },
   "outputs": [
    {
     "name": "stdout",
     "output_type": "stream",
     "text": [
      "Threshold for translating probabilities into classes: 0.033708156968674276\n",
      "0.5204877305418407 - roc_auc on probabilities\n",
      "\n",
      "0.52080171 - roc_auc\n",
      "0.93335000 - accuracy\n",
      "0.05183341 - precision\n",
      "0.08465804 - recall\n",
      "0.06429875 - f1\n",
      "\n",
      "prediction|   0.0    |   1.0    \n",
      "true label|          |          \n",
      "--------------------------------\n",
      "       0.0|    186212|      8378\n",
      "       1.0|      4952|       458\n"
     ]
    }
   ],
   "source": [
    "print_metrics(tree, X_valid_preprocessed, y_valid)"
   ]
  },
  {
   "cell_type": "markdown",
   "metadata": {
    "id": "ND_qC0SnPczC"
   },
   "source": [
    "Random Forest"
   ]
  },
  {
   "cell_type": "code",
   "execution_count": 35,
   "metadata": {
    "execution": {
     "iopub.execute_input": "2023-05-04T10:58:33.343499Z",
     "iopub.status.busy": "2023-05-04T10:58:33.343193Z",
     "iopub.status.idle": "2023-05-04T10:58:33.349154Z",
     "shell.execute_reply": "2023-05-04T10:58:33.347871Z",
     "shell.execute_reply.started": "2023-05-04T10:58:33.343473Z"
    },
    "id": "Ohu0p_RCPgUd"
   },
   "outputs": [],
   "source": [
    "forest = RandomForestClassifier(random_state=RANDOM_SEED)"
   ]
  },
  {
   "cell_type": "code",
   "execution_count": 36,
   "metadata": {
    "colab": {
     "base_uri": "https://localhost:8080/"
    },
    "execution": {
     "iopub.execute_input": "2023-05-04T10:58:33.351427Z",
     "iopub.status.busy": "2023-05-04T10:58:33.350944Z",
     "iopub.status.idle": "2023-05-04T11:07:15.718197Z",
     "shell.execute_reply": "2023-05-04T11:07:15.717003Z",
     "shell.execute_reply.started": "2023-05-04T10:58:33.351388Z"
    },
    "id": "X_NwrOzUPgQT",
    "outputId": "79c8b478-f712-4133-de0a-f52b5de26bf2"
   },
   "outputs": [
    {
     "name": "stdout",
     "output_type": "stream",
     "text": [
      "CPU times: user 8min 41s, sys: 804 ms, total: 8min 42s\n",
      "Wall time: 8min 42s\n"
     ]
    }
   ],
   "source": [
    "%%time\n",
    "forest.fit(X_train_preprocessed, y_train);"
   ]
  },
  {
   "cell_type": "code",
   "execution_count": 37,
   "metadata": {
    "colab": {
     "base_uri": "https://localhost:8080/"
    },
    "execution": {
     "iopub.execute_input": "2023-05-04T11:07:15.720083Z",
     "iopub.status.busy": "2023-05-04T11:07:15.719737Z",
     "iopub.status.idle": "2023-05-04T11:07:36.684415Z",
     "shell.execute_reply": "2023-05-04T11:07:36.682687Z",
     "shell.execute_reply.started": "2023-05-04T11:07:15.720052Z"
    },
    "id": "MbvfSLq2PdKb",
    "outputId": "089b21ed-6c37-4138-c6a4-fd6583be1973"
   },
   "outputs": [
    {
     "name": "stdout",
     "output_type": "stream",
     "text": [
      "Threshold for translating probabilities into classes: 0.010218123817113232\n",
      "0.6253519433580381 - roc_auc on probabilities\n",
      "\n",
      "0.59594638 - roc_auc\n",
      "0.59998000 - accuracy\n",
      "0.03952047 - precision\n",
      "0.59168207 - recall\n",
      "0.07409208 - f1\n",
      "\n",
      "prediction|   0.0    |   1.0    \n",
      "true label|          |          \n",
      "--------------------------------\n",
      "       0.0|    116795|     77795\n",
      "       1.0|      2209|      3201\n"
     ]
    }
   ],
   "source": [
    "print_metrics(forest, X_valid_preprocessed, y_valid)"
   ]
  },
  {
   "cell_type": "markdown",
   "metadata": {
    "id": "SJFfsUFc3B5b"
   },
   "source": [
    "Gradient Boosting"
   ]
  },
  {
   "cell_type": "code",
   "execution_count": 38,
   "metadata": {
    "execution": {
     "iopub.execute_input": "2023-05-04T11:07:36.686675Z",
     "iopub.status.busy": "2023-05-04T11:07:36.686257Z",
     "iopub.status.idle": "2023-05-04T11:07:36.692293Z",
     "shell.execute_reply": "2023-05-04T11:07:36.690928Z",
     "shell.execute_reply.started": "2023-05-04T11:07:36.686643Z"
    },
    "id": "A12fP4saB4-e"
   },
   "outputs": [],
   "source": [
    "histboost = HistGradientBoostingClassifier(random_state=RANDOM_SEED)"
   ]
  },
  {
   "cell_type": "code",
   "execution_count": 39,
   "metadata": {
    "colab": {
     "base_uri": "https://localhost:8080/"
    },
    "execution": {
     "iopub.execute_input": "2023-05-04T11:07:36.694293Z",
     "iopub.status.busy": "2023-05-04T11:07:36.693847Z",
     "iopub.status.idle": "2023-05-04T11:08:07.659820Z",
     "shell.execute_reply": "2023-05-04T11:08:07.658820Z",
     "shell.execute_reply.started": "2023-05-04T11:07:36.694258Z"
    },
    "id": "vc9PzIjHDXVm",
    "outputId": "b6c4752e-a560-4ab0-cb1b-b8872be3796e"
   },
   "outputs": [
    {
     "name": "stdout",
     "output_type": "stream",
     "text": [
      "CPU times: user 1min 52s, sys: 447 ms, total: 1min 52s\n",
      "Wall time: 31 s\n"
     ]
    }
   ],
   "source": [
    "%%time\n",
    "histboost.fit(X_train_preprocessed, y_train);"
   ]
  },
  {
   "cell_type": "code",
   "execution_count": 40,
   "metadata": {
    "colab": {
     "base_uri": "https://localhost:8080/"
    },
    "execution": {
     "iopub.execute_input": "2023-05-04T11:08:07.662241Z",
     "iopub.status.busy": "2023-05-04T11:08:07.661462Z",
     "iopub.status.idle": "2023-05-04T11:08:19.006887Z",
     "shell.execute_reply": "2023-05-04T11:08:19.005741Z",
     "shell.execute_reply.started": "2023-05-04T11:08:07.662183Z"
    },
    "id": "rs88B_PzDfMF",
    "outputId": "8f825910-95df-4501-a13c-cb648d0d9173"
   },
   "outputs": [
    {
     "name": "stdout",
     "output_type": "stream",
     "text": [
      "Threshold for translating probabilities into classes: 0.02822602984682529\n",
      "0.70696812360298 - roc_auc on probabilities\n",
      "\n",
      "0.64682393 - roc_auc\n",
      "0.62957000 - accuracy\n",
      "0.04742197 - precision\n",
      "0.66506470 - recall\n",
      "0.08853129 - f1\n",
      "\n",
      "prediction|   0.0    |   1.0    \n",
      "true label|          |          \n",
      "--------------------------------\n",
      "       0.0|    122316|     72274\n",
      "       1.0|      1812|      3598\n"
     ]
    }
   ],
   "source": [
    "print_metrics(histboost, X_valid_preprocessed, y_valid)"
   ]
  },
  {
   "cell_type": "markdown",
   "metadata": {
    "id": "5vNwKUyjToUJ"
   },
   "source": [
    "CatBoost"
   ]
  },
  {
   "cell_type": "code",
   "execution_count": 41,
   "metadata": {
    "execution": {
     "iopub.execute_input": "2023-05-04T11:08:19.008626Z",
     "iopub.status.busy": "2023-05-04T11:08:19.008148Z",
     "iopub.status.idle": "2023-05-04T11:08:19.016880Z",
     "shell.execute_reply": "2023-05-04T11:08:19.015791Z",
     "shell.execute_reply.started": "2023-05-04T11:08:19.008596Z"
    },
    "id": "SXMJDwsJgFw5"
   },
   "outputs": [],
   "source": [
    "catboost = CatBoostClassifier(\n",
    "    iterations=100, verbose=False, random_state=RANDOM_SEED)"
   ]
  },
  {
   "cell_type": "code",
   "execution_count": 42,
   "metadata": {
    "colab": {
     "base_uri": "https://localhost:8080/"
    },
    "execution": {
     "iopub.execute_input": "2023-05-04T11:08:19.018735Z",
     "iopub.status.busy": "2023-05-04T11:08:19.018317Z",
     "iopub.status.idle": "2023-05-04T11:08:41.208647Z",
     "shell.execute_reply": "2023-05-04T11:08:41.207412Z",
     "shell.execute_reply.started": "2023-05-04T11:08:19.018703Z"
    },
    "id": "miBsOhczge8L",
    "outputId": "fca7ea04-a64f-490e-c982-7481e4a8392e"
   },
   "outputs": [
    {
     "name": "stdout",
     "output_type": "stream",
     "text": [
      "CPU times: user 1min 20s, sys: 1.23 s, total: 1min 21s\n",
      "Wall time: 22.2 s\n"
     ]
    }
   ],
   "source": [
    "%%time\n",
    "catboost.fit(X_train_preprocessed, y_train);"
   ]
  },
  {
   "cell_type": "code",
   "execution_count": 43,
   "metadata": {
    "colab": {
     "base_uri": "https://localhost:8080/"
    },
    "execution": {
     "iopub.execute_input": "2023-05-04T11:08:41.210536Z",
     "iopub.status.busy": "2023-05-04T11:08:41.210094Z",
     "iopub.status.idle": "2023-05-04T11:08:52.096365Z",
     "shell.execute_reply": "2023-05-04T11:08:52.095237Z",
     "shell.execute_reply.started": "2023-05-04T11:08:41.210495Z"
    },
    "id": "YjePcwU2gj2D",
    "outputId": "31fddb47-3904-49bf-f6c5-b748d7951910"
   },
   "outputs": [
    {
     "name": "stdout",
     "output_type": "stream",
     "text": [
      "Threshold for translating probabilities into classes: 0.02621918575951634\n",
      "0.7070776239420502 - roc_auc on probabilities\n",
      "\n",
      "0.64746784 - roc_auc\n",
      "0.60075000 - accuracy\n",
      "0.04598683 - precision\n",
      "0.69685767 - recall\n",
      "0.08627989 - f1\n",
      "\n",
      "prediction|   0.0    |   1.0    \n",
      "true label|          |          \n",
      "--------------------------------\n",
      "       0.0|    116380|     78210\n",
      "       1.0|      1640|      3770\n"
     ]
    }
   ],
   "source": [
    "print_metrics(catboost, X_valid_preprocessed, y_valid)"
   ]
  },
  {
   "cell_type": "markdown",
   "metadata": {
    "id": "YujDtQJRZNtr"
   },
   "source": [
    "XGBoost"
   ]
  },
  {
   "cell_type": "code",
   "execution_count": 44,
   "metadata": {
    "execution": {
     "iopub.execute_input": "2023-05-04T11:08:52.098041Z",
     "iopub.status.busy": "2023-05-04T11:08:52.097711Z",
     "iopub.status.idle": "2023-05-04T11:08:52.103690Z",
     "shell.execute_reply": "2023-05-04T11:08:52.102586Z",
     "shell.execute_reply.started": "2023-05-04T11:08:52.098014Z"
    },
    "id": "XQLRpwg6ZNts"
   },
   "outputs": [],
   "source": [
    "xgboost = XGBClassifier()"
   ]
  },
  {
   "cell_type": "code",
   "execution_count": 45,
   "metadata": {
    "colab": {
     "base_uri": "https://localhost:8080/"
    },
    "execution": {
     "iopub.execute_input": "2023-05-04T11:08:52.105501Z",
     "iopub.status.busy": "2023-05-04T11:08:52.105103Z",
     "iopub.status.idle": "2023-05-04T11:12:58.904159Z",
     "shell.execute_reply": "2023-05-04T11:12:58.902372Z",
     "shell.execute_reply.started": "2023-05-04T11:08:52.105470Z"
    },
    "id": "vP04Ay7mZNtt",
    "outputId": "09a797df-f4b0-40cc-b722-62ff3c5668bb"
   },
   "outputs": [
    {
     "name": "stdout",
     "output_type": "stream",
     "text": [
      "CPU times: user 15min 57s, sys: 2.36 s, total: 15min 59s\n",
      "Wall time: 4min 6s\n"
     ]
    }
   ],
   "source": [
    "%%time\n",
    "xgboost.fit(X_train_preprocessed.values, y_train.values);"
   ]
  },
  {
   "cell_type": "code",
   "execution_count": 46,
   "metadata": {
    "colab": {
     "base_uri": "https://localhost:8080/"
    },
    "execution": {
     "iopub.execute_input": "2023-05-04T11:12:58.907161Z",
     "iopub.status.busy": "2023-05-04T11:12:58.906624Z",
     "iopub.status.idle": "2023-05-04T11:13:09.533534Z",
     "shell.execute_reply": "2023-05-04T11:13:09.532434Z",
     "shell.execute_reply.started": "2023-05-04T11:12:58.907103Z"
    },
    "id": "ct7RtQdDZNtu",
    "outputId": "745534a6-f726-463c-be58-4dd26cd3a559"
   },
   "outputs": [
    {
     "name": "stdout",
     "output_type": "stream",
     "text": [
      "Threshold for translating probabilities into classes: 0.02784477629170188\n",
      "0.7107721771326584 - roc_auc on probabilities\n",
      "\n",
      "0.65178082 - roc_auc\n",
      "0.63432000 - accuracy\n",
      "0.04836085 - precision\n",
      "0.67024030 - recall\n",
      "0.09021247 - f1\n",
      "\n",
      "prediction|   0.0    |   1.0    \n",
      "true label|          |          \n",
      "--------------------------------\n",
      "       0.0|    123238|     71352\n",
      "       1.0|      1784|      3626\n"
     ]
    }
   ],
   "source": [
    "print_metrics(xgboost, X_valid_preprocessed.values, y_valid.values)"
   ]
  },
  {
   "cell_type": "markdown",
   "metadata": {
    "id": "UB6kxht3n16M"
   },
   "source": [
    "LGBMClassifier"
   ]
  },
  {
   "cell_type": "code",
   "execution_count": 47,
   "metadata": {
    "execution": {
     "iopub.execute_input": "2023-05-04T11:13:09.535734Z",
     "iopub.status.busy": "2023-05-04T11:13:09.535121Z",
     "iopub.status.idle": "2023-05-04T11:13:09.540956Z",
     "shell.execute_reply": "2023-05-04T11:13:09.539865Z",
     "shell.execute_reply.started": "2023-05-04T11:13:09.535702Z"
    },
    "id": "jCi3bHfsn16O"
   },
   "outputs": [],
   "source": [
    "lightgbm = LGBMClassifier(random_state=RANDOM_SEED)"
   ]
  },
  {
   "cell_type": "code",
   "execution_count": 48,
   "metadata": {
    "colab": {
     "base_uri": "https://localhost:8080/"
    },
    "execution": {
     "iopub.execute_input": "2023-05-04T11:13:09.543344Z",
     "iopub.status.busy": "2023-05-04T11:13:09.542262Z",
     "iopub.status.idle": "2023-05-04T11:13:22.570081Z",
     "shell.execute_reply": "2023-05-04T11:13:22.569140Z",
     "shell.execute_reply.started": "2023-05-04T11:13:09.543312Z"
    },
    "id": "qwJwaO9Xn16P",
    "outputId": "963405f9-b816-491d-9517-9ae368df1127"
   },
   "outputs": [
    {
     "name": "stdout",
     "output_type": "stream",
     "text": [
      "CPU times: user 40.1 s, sys: 950 ms, total: 41 s\n",
      "Wall time: 13 s\n"
     ]
    }
   ],
   "source": [
    "%%time\n",
    "lightgbm.fit(X_train_preprocessed, y_train);"
   ]
  },
  {
   "cell_type": "code",
   "execution_count": 49,
   "metadata": {
    "colab": {
     "base_uri": "https://localhost:8080/"
    },
    "execution": {
     "iopub.execute_input": "2023-05-04T11:13:22.571607Z",
     "iopub.status.busy": "2023-05-04T11:13:22.571310Z",
     "iopub.status.idle": "2023-05-04T11:13:33.657543Z",
     "shell.execute_reply": "2023-05-04T11:13:33.656274Z",
     "shell.execute_reply.started": "2023-05-04T11:13:22.571582Z"
    },
    "id": "t5bs-yUBn16Q",
    "outputId": "08c92767-db0f-400b-c8f3-e2401e7af308"
   },
   "outputs": [
    {
     "name": "stdout",
     "output_type": "stream",
     "text": [
      "Threshold for translating probabilities into classes: 0.028516118176763625\n",
      "0.7069700438449713 - roc_auc on probabilities\n",
      "\n",
      "0.64701144 - roc_auc\n",
      "0.63535500 - accuracy\n",
      "0.04778107 - precision\n",
      "0.65933457 - recall\n",
      "0.08910483 - f1\n",
      "\n",
      "prediction|   0.0    |   1.0    \n",
      "true label|          |          \n",
      "--------------------------------\n",
      "       0.0|    123504|     71086\n",
      "       1.0|      1843|      3567\n"
     ]
    }
   ],
   "source": [
    "print_metrics(lightgbm, X_valid_preprocessed, y_valid)"
   ]
  },
  {
   "cell_type": "markdown",
   "metadata": {
    "id": "UqnvrGRY7wWC"
   },
   "source": [
    "### Model optimization\n",
    "\n",
    "The best model is LightGBM for the following reasons:\n",
    "+ One of the best indicators of `roc_auc`.\n",
    "+ Fast learning.\n",
    "+ The model is interpretable, that is, you can get indicators of the importance of features.\n",
    "+ Can predict class probability.\n",
    "+ No problems with processors without SSE4 like CatBoost.\n",
    "\n",
    "Optimization of the model and pipeline for data preparation is carried out using Bayesian optimization. With different hyperparameters, the model is trained on the training data, and evaluated on the validation data."
   ]
  },
  {
   "cell_type": "code",
   "execution_count": 50,
   "metadata": {
    "execution": {
     "iopub.execute_input": "2023-05-04T11:13:33.659788Z",
     "iopub.status.busy": "2023-05-04T11:13:33.659018Z",
     "iopub.status.idle": "2023-05-04T11:13:33.669442Z",
     "shell.execute_reply": "2023-05-04T11:13:33.668381Z",
     "shell.execute_reply.started": "2023-05-04T11:13:33.659754Z"
    },
    "id": "r9DJbmb5m26A"
   },
   "outputs": [],
   "source": [
    "def optimize_lightgbm(\n",
    "    rare_encoder_tol: float, \n",
    "    constant_dropper_tol: float, \n",
    "    correlated_dropper_threshold: float, \n",
    "    n_estimators: float, \n",
    "    learning_rate: float, \n",
    "    reg_lambda: float, \n",
    "    num_leaves: float, \n",
    "    reg_alpha: float, \n",
    "    boosting_type: str = 'goss'\n",
    ") -> float:\n",
    "    \"\"\"\n",
    "    Used by the Bayesian optimizer to find the best hyperparameters \n",
    "    data preparation pipeline and LGBMClassifier model.\n",
    "    \"\"\"\n",
    "\n",
    "    # Create a pipeline with given hyperparameters\n",
    "    model = Pipeline(steps=[\n",
    "        # Create additional features\n",
    "        ('indexer', FunctionTransformer(set_index)), \n",
    "        ('imputer', FunctionTransformer(fill_missings)), \n",
    "        ('engineer', FunctionTransformer(create_features)), \n",
    "        ('dropper', DropFeatures(['client_id', 'visit_date', 'visit_time', \n",
    "                                  'device_screen_resolution'])), \n",
    "        # Transformations of numerical variables\n",
    "        ('normalization', YeoJohnsonTransformer()), \n",
    "        ('outlier_remover', Winsorizer()), \n",
    "        ('scaler', SklearnTransformerWrapper(StandardScaler())), \n",
    "        # Transformations of categorical variables\n",
    "        ('rare_encoder', RareLabelEncoder(\n",
    "            tol=rare_encoder_tol, replace_with='rare')),\n",
    "        ('onehot_encoder', OneHotEncoder(drop_last_binary=True)), \n",
    "        ('bool_converter', FunctionTransformer(converse_types)), \n",
    "        # Removing duplicates and correlated features\n",
    "        ('constant_dropper', DropConstantFeatures(tol=constant_dropper_tol)), \n",
    "        ('duplicated_dropper', DropDuplicateFeatures()), \n",
    "        ('correlated_dropper', DropCorrelatedFeatures(\n",
    "            threshold=correlated_dropper_threshold)), \n",
    "        # Best model with optimized hyperparameters\n",
    "        ('model', LGBMClassifier(\n",
    "            n_estimators=int(n_estimators), boosting_type=boosting_type, \n",
    "            learning_rate=learning_rate, num_leaves=int(num_leaves), \n",
    "            reg_lambda=reg_lambda, reg_alpha=reg_alpha, \n",
    "            random_state=RANDOM_SEED))])\n",
    "    \n",
    "    # Train and evaluate the model\n",
    "    model.fit(X_train, y_train)\n",
    "    prediction = model.predict_proba(X_valid)[:, 1]\n",
    "    return roc_auc_score(y_valid, prediction)"
   ]
  },
  {
   "cell_type": "code",
   "execution_count": 51,
   "metadata": {
    "execution": {
     "iopub.execute_input": "2023-05-04T11:13:33.673108Z",
     "iopub.status.busy": "2023-05-04T11:13:33.672796Z",
     "iopub.status.idle": "2023-05-04T11:13:33.685437Z",
     "shell.execute_reply": "2023-05-04T11:13:33.684281Z",
     "shell.execute_reply.started": "2023-05-04T11:13:33.673074Z"
    },
    "id": "d0kki5lZWEwh"
   },
   "outputs": [],
   "source": [
    "optimizing_parameters = {\n",
    "    'rare_encoder_tol': (0.01, 0.1), \n",
    "    'constant_dropper_tol': (0.95, 0.999), \n",
    "    'correlated_dropper_threshold': (0.7, 0.99), \n",
    "    'n_estimators': (50, 5000), \n",
    "    'learning_rate': (0.01, 0.25), \n",
    "    'reg_lambda': (0, 50), \n",
    "    'num_leaves': (10, 120), \n",
    "    'reg_alpha': (0, 50)}"
   ]
  },
  {
   "cell_type": "code",
   "execution_count": 52,
   "metadata": {
    "colab": {
     "base_uri": "https://localhost:8080/"
    },
    "execution": {
     "iopub.execute_input": "2023-05-04T11:13:33.687523Z",
     "iopub.status.busy": "2023-05-04T11:13:33.687112Z",
     "iopub.status.idle": "2023-05-04T16:05:21.832473Z",
     "shell.execute_reply": "2023-05-04T16:05:21.830710Z",
     "shell.execute_reply.started": "2023-05-04T11:13:33.687485Z"
    },
    "id": "k4Yax3asoOGT",
    "outputId": "6d280cef-0383-4e6c-da63-2a49a0840d1a"
   },
   "outputs": [
    {
     "name": "stdout",
     "output_type": "stream",
     "text": [
      "boosting_type = gbdt\n",
      "|   iter    |  target   | consta... | correl... | learni... | n_esti... | num_le... | rare_e... | reg_alpha | reg_la... |\n",
      "-------------------------------------------------------------------------------------------------------------------------\n",
      "| \u001b[0m1        \u001b[0m | \u001b[0m0.7107   \u001b[0m | \u001b[0m0.9769   \u001b[0m | \u001b[0m0.9074   \u001b[0m | \u001b[0m0.1547   \u001b[0m | \u001b[0m2.747e+03\u001b[0m | \u001b[0m56.6     \u001b[0m | \u001b[0m0.06813  \u001b[0m | \u001b[0m21.88    \u001b[0m | \u001b[0m44.59    \u001b[0m |\n",
      "| \u001b[0m2        \u001b[0m | \u001b[0m0.6836   \u001b[0m | \u001b[0m0.9972   \u001b[0m | \u001b[0m0.8112   \u001b[0m | \u001b[0m0.2      \u001b[0m | \u001b[0m2.668e+03\u001b[0m | \u001b[0m72.48    \u001b[0m | \u001b[0m0.0933   \u001b[0m | \u001b[0m3.552    \u001b[0m | \u001b[0m4.356    \u001b[0m |\n",
      "| \u001b[0m3        \u001b[0m | \u001b[0m0.7094   \u001b[0m | \u001b[0m0.951    \u001b[0m | \u001b[0m0.9415   \u001b[0m | \u001b[0m0.1968   \u001b[0m | \u001b[0m4.357e+03\u001b[0m | \u001b[0m117.6    \u001b[0m | \u001b[0m0.08192  \u001b[0m | \u001b[0m23.07    \u001b[0m | \u001b[0m39.03    \u001b[0m |\n",
      "| \u001b[95m4        \u001b[0m | \u001b[95m0.7113   \u001b[0m | \u001b[95m0.9558   \u001b[0m | \u001b[95m0.8856   \u001b[0m | \u001b[95m0.0444   \u001b[0m | \u001b[95m4.726e+03\u001b[0m | \u001b[95m67.4     \u001b[0m | \u001b[95m0.04732  \u001b[0m | \u001b[95m13.23    \u001b[0m | \u001b[95m38.71    \u001b[0m |\n",
      "| \u001b[0m5        \u001b[0m | \u001b[0m0.7055   \u001b[0m | \u001b[0m0.9724   \u001b[0m | \u001b[0m0.8648   \u001b[0m | \u001b[0m0.01451  \u001b[0m | \u001b[0m3.107e+03\u001b[0m | \u001b[0m77.33    \u001b[0m | \u001b[0m0.06552  \u001b[0m | \u001b[0m47.19    \u001b[0m | \u001b[0m34.09    \u001b[0m |\n",
      "| \u001b[0m6        \u001b[0m | \u001b[0m0.7087   \u001b[0m | \u001b[0m0.9859   \u001b[0m | \u001b[0m0.7406   \u001b[0m | \u001b[0m0.07166  \u001b[0m | \u001b[0m4.72e+03 \u001b[0m | \u001b[0m61.15    \u001b[0m | \u001b[0m0.06792  \u001b[0m | \u001b[0m12.79    \u001b[0m | \u001b[0m47.99    \u001b[0m |\n",
      "| \u001b[0m7        \u001b[0m | \u001b[0m0.709    \u001b[0m | \u001b[0m0.9687   \u001b[0m | \u001b[0m0.7694   \u001b[0m | \u001b[0m0.183    \u001b[0m | \u001b[0m4.745e+03\u001b[0m | \u001b[0m107.8    \u001b[0m | \u001b[0m0.04107  \u001b[0m | \u001b[0m35.41    \u001b[0m | \u001b[0m2.306    \u001b[0m |\n",
      "| \u001b[0m8        \u001b[0m | \u001b[0m0.6953   \u001b[0m | \u001b[0m0.9874   \u001b[0m | \u001b[0m0.9089   \u001b[0m | \u001b[0m0.1418   \u001b[0m | \u001b[0m4.783e+03\u001b[0m | \u001b[0m49.48    \u001b[0m | \u001b[0m0.01103  \u001b[0m | \u001b[0m1.832    \u001b[0m | \u001b[0m11.54    \u001b[0m |\n",
      "| \u001b[0m9        \u001b[0m | \u001b[0m0.7054   \u001b[0m | \u001b[0m0.978    \u001b[0m | \u001b[0m0.8866   \u001b[0m | \u001b[0m0.24     \u001b[0m | \u001b[0m4.735e+03\u001b[0m | \u001b[0m64.69    \u001b[0m | \u001b[0m0.05351  \u001b[0m | \u001b[0m12.02    \u001b[0m | \u001b[0m37.2     \u001b[0m |\n",
      "| \u001b[0m10       \u001b[0m | \u001b[0m0.7092   \u001b[0m | \u001b[0m0.989    \u001b[0m | \u001b[0m0.7662   \u001b[0m | \u001b[0m0.2053   \u001b[0m | \u001b[0m4.746e+03\u001b[0m | \u001b[0m111.7    \u001b[0m | \u001b[0m0.04616  \u001b[0m | \u001b[0m31.5     \u001b[0m | \u001b[0m3.138    \u001b[0m |\n",
      "| \u001b[0m11       \u001b[0m | \u001b[0m0.706    \u001b[0m | \u001b[0m0.9901   \u001b[0m | \u001b[0m0.7797   \u001b[0m | \u001b[0m0.1295   \u001b[0m | \u001b[0m4.706e+03\u001b[0m | \u001b[0m89.92    \u001b[0m | \u001b[0m0.02122  \u001b[0m | \u001b[0m10.07    \u001b[0m | \u001b[0m36.34    \u001b[0m |\n",
      "| \u001b[0m12       \u001b[0m | \u001b[0m0.7072   \u001b[0m | \u001b[0m0.9945   \u001b[0m | \u001b[0m0.7721   \u001b[0m | \u001b[0m0.02904  \u001b[0m | \u001b[0m4.711e+03\u001b[0m | \u001b[0m74.84    \u001b[0m | \u001b[0m0.02862  \u001b[0m | \u001b[0m44.54    \u001b[0m | \u001b[0m32.25    \u001b[0m |\n",
      "| \u001b[0m13       \u001b[0m | \u001b[0m0.7026   \u001b[0m | \u001b[0m0.9845   \u001b[0m | \u001b[0m0.8319   \u001b[0m | \u001b[0m0.224    \u001b[0m | \u001b[0m4.704e+03\u001b[0m | \u001b[0m62.01    \u001b[0m | \u001b[0m0.04982  \u001b[0m | \u001b[0m9.975    \u001b[0m | \u001b[0m21.73    \u001b[0m |\n",
      "| \u001b[0m14       \u001b[0m | \u001b[0m0.7091   \u001b[0m | \u001b[0m0.9731   \u001b[0m | \u001b[0m0.9777   \u001b[0m | \u001b[0m0.2198   \u001b[0m | \u001b[0m2.773e+03\u001b[0m | \u001b[0m59.99    \u001b[0m | \u001b[0m0.0311   \u001b[0m | \u001b[0m34.29    \u001b[0m | \u001b[0m40.44    \u001b[0m |\n",
      "| \u001b[0m15       \u001b[0m | \u001b[0m0.7046   \u001b[0m | \u001b[0m0.9501   \u001b[0m | \u001b[0m0.7732   \u001b[0m | \u001b[0m0.09686  \u001b[0m | \u001b[0m2.74e+03 \u001b[0m | \u001b[0m42.57    \u001b[0m | \u001b[0m0.08392  \u001b[0m | \u001b[0m49.52    \u001b[0m | \u001b[0m40.76    \u001b[0m |\n",
      "=========================================================================================================================\n",
      "boosting_type = goss\n",
      "|   iter    |  target   | consta... | correl... | learni... | n_esti... | num_le... | rare_e... | reg_alpha | reg_la... |\n",
      "-------------------------------------------------------------------------------------------------------------------------\n",
      "| \u001b[0m1        \u001b[0m | \u001b[0m0.7032   \u001b[0m | \u001b[0m0.9769   \u001b[0m | \u001b[0m0.9074   \u001b[0m | \u001b[0m0.1547   \u001b[0m | \u001b[0m2.747e+03\u001b[0m | \u001b[0m56.6     \u001b[0m | \u001b[0m0.06813  \u001b[0m | \u001b[0m21.88    \u001b[0m | \u001b[0m44.59    \u001b[0m |\n",
      "| \u001b[0m2        \u001b[0m | \u001b[0m0.6778   \u001b[0m | \u001b[0m0.9972   \u001b[0m | \u001b[0m0.8112   \u001b[0m | \u001b[0m0.2      \u001b[0m | \u001b[0m2.668e+03\u001b[0m | \u001b[0m72.48    \u001b[0m | \u001b[0m0.0933   \u001b[0m | \u001b[0m3.552    \u001b[0m | \u001b[0m4.356    \u001b[0m |\n",
      "| \u001b[0m3        \u001b[0m | \u001b[0m0.6917   \u001b[0m | \u001b[0m0.951    \u001b[0m | \u001b[0m0.9415   \u001b[0m | \u001b[0m0.1968   \u001b[0m | \u001b[0m4.357e+03\u001b[0m | \u001b[0m117.6    \u001b[0m | \u001b[0m0.08192  \u001b[0m | \u001b[0m23.07    \u001b[0m | \u001b[0m39.03    \u001b[0m |\n",
      "| \u001b[95m4        \u001b[0m | \u001b[95m0.7065   \u001b[0m | \u001b[95m0.9558   \u001b[0m | \u001b[95m0.8856   \u001b[0m | \u001b[95m0.0444   \u001b[0m | \u001b[95m4.726e+03\u001b[0m | \u001b[95m67.4     \u001b[0m | \u001b[95m0.04732  \u001b[0m | \u001b[95m13.23    \u001b[0m | \u001b[95m38.71    \u001b[0m |\n",
      "| \u001b[95m5        \u001b[0m | \u001b[95m0.7098   \u001b[0m | \u001b[95m0.9724   \u001b[0m | \u001b[95m0.8648   \u001b[0m | \u001b[95m0.01451  \u001b[0m | \u001b[95m3.107e+03\u001b[0m | \u001b[95m77.33    \u001b[0m | \u001b[95m0.06552  \u001b[0m | \u001b[95m47.19    \u001b[0m | \u001b[95m34.09    \u001b[0m |\n",
      "| \u001b[0m6        \u001b[0m | \u001b[0m0.702    \u001b[0m | \u001b[0m0.9859   \u001b[0m | \u001b[0m0.7406   \u001b[0m | \u001b[0m0.07166  \u001b[0m | \u001b[0m4.72e+03 \u001b[0m | \u001b[0m61.15    \u001b[0m | \u001b[0m0.06792  \u001b[0m | \u001b[0m12.79    \u001b[0m | \u001b[0m47.99    \u001b[0m |\n",
      "| \u001b[0m7        \u001b[0m | \u001b[0m0.7035   \u001b[0m | \u001b[0m0.9749   \u001b[0m | \u001b[0m0.8415   \u001b[0m | \u001b[0m0.1096   \u001b[0m | \u001b[0m3.092e+03\u001b[0m | \u001b[0m58.88    \u001b[0m | \u001b[0m0.01305  \u001b[0m | \u001b[0m14.08    \u001b[0m | \u001b[0m24.51    \u001b[0m |\n",
      "| \u001b[0m8        \u001b[0m | \u001b[0m0.6752   \u001b[0m | \u001b[0m0.9968   \u001b[0m | \u001b[0m0.7564   \u001b[0m | \u001b[0m0.22     \u001b[0m | \u001b[0m4.759e+03\u001b[0m | \u001b[0m107.1    \u001b[0m | \u001b[0m0.01397  \u001b[0m | \u001b[0m10.01    \u001b[0m | \u001b[0m18.57    \u001b[0m |\n",
      "| \u001b[0m9        \u001b[0m | \u001b[0m0.6852   \u001b[0m | \u001b[0m0.978    \u001b[0m | \u001b[0m0.8866   \u001b[0m | \u001b[0m0.24     \u001b[0m | \u001b[0m4.735e+03\u001b[0m | \u001b[0m64.69    \u001b[0m | \u001b[0m0.05351  \u001b[0m | \u001b[0m12.02    \u001b[0m | \u001b[0m37.2     \u001b[0m |\n",
      "| \u001b[0m10       \u001b[0m | \u001b[0m0.7084   \u001b[0m | \u001b[0m0.9788   \u001b[0m | \u001b[0m0.7382   \u001b[0m | \u001b[0m0.04363  \u001b[0m | \u001b[0m384.9    \u001b[0m | \u001b[0m117.3    \u001b[0m | \u001b[0m0.0828   \u001b[0m | \u001b[0m30.44    \u001b[0m | \u001b[0m4.359    \u001b[0m |\n",
      "| \u001b[0m11       \u001b[0m | \u001b[0m0.7028   \u001b[0m | \u001b[0m0.9922   \u001b[0m | \u001b[0m0.8262   \u001b[0m | \u001b[0m0.1057   \u001b[0m | \u001b[0m2.917e+03\u001b[0m | \u001b[0m76.05    \u001b[0m | \u001b[0m0.04535  \u001b[0m | \u001b[0m17.51    \u001b[0m | \u001b[0m43.0     \u001b[0m |\n",
      "| \u001b[0m12       \u001b[0m | \u001b[0m0.7095   \u001b[0m | \u001b[0m0.9787   \u001b[0m | \u001b[0m0.9699   \u001b[0m | \u001b[0m0.1354   \u001b[0m | \u001b[0m1.554e+03\u001b[0m | \u001b[0m107.4    \u001b[0m | \u001b[0m0.02774  \u001b[0m | \u001b[0m34.13    \u001b[0m | \u001b[0m18.62    \u001b[0m |\n",
      "| \u001b[95m13       \u001b[0m | \u001b[95m0.7109   \u001b[0m | \u001b[95m0.9887   \u001b[0m | \u001b[95m0.7021   \u001b[0m | \u001b[95m0.07697  \u001b[0m | \u001b[95m3.026e+03\u001b[0m | \u001b[95m31.61    \u001b[0m | \u001b[95m0.03634  \u001b[0m | \u001b[95m35.23    \u001b[0m | \u001b[95m44.89    \u001b[0m |\n",
      "| \u001b[0m14       \u001b[0m | \u001b[0m0.6929   \u001b[0m | \u001b[0m0.9652   \u001b[0m | \u001b[0m0.9437   \u001b[0m | \u001b[0m0.229    \u001b[0m | \u001b[0m4.437e+03\u001b[0m | \u001b[0m75.66    \u001b[0m | \u001b[0m0.0661   \u001b[0m | \u001b[0m22.42    \u001b[0m | \u001b[0m40.7     \u001b[0m |\n",
      "| \u001b[0m15       \u001b[0m | \u001b[0m0.7004   \u001b[0m | \u001b[0m0.9958   \u001b[0m | \u001b[0m0.7702   \u001b[0m | \u001b[0m0.09209  \u001b[0m | \u001b[0m3.433e+03\u001b[0m | \u001b[0m44.81    \u001b[0m | \u001b[0m0.08533  \u001b[0m | \u001b[0m11.06    \u001b[0m | \u001b[0m9.014    \u001b[0m |\n",
      "=========================================================================================================================\n"
     ]
    }
   ],
   "source": [
    "# the Bayesian optimizer does not work with categorical values, so for\n",
    "# each type of boosting will have its own hyperparameter optimization\n",
    "\n",
    "best_score, best_parameters = 0.0, dict()\n",
    "for boosting_type in ('gbdt', 'goss'):\n",
    "\n",
    "    print(f'boosting_type = {boosting_type}')\n",
    "    optimizer = BayesianOptimization(\n",
    "        partial(optimize_lightgbm, boosting_type=boosting_type), \n",
    "        optimizing_parameters, random_state=RANDOM_SEED)\n",
    "    optimizer.maximize(init_points=5, n_iter=10)\n",
    "    \n",
    "    if best_score < optimizer.max['target']:\n",
    "        best_score = optimizer.max['target']\n",
    "        best_parameters.update(optimizer.max['params'])\n",
    "        best_parameters['boosting_type'] = boosting_type"
   ]
  },
  {
   "cell_type": "code",
   "execution_count": 53,
   "metadata": {
    "colab": {
     "base_uri": "https://localhost:8080/"
    },
    "execution": {
     "iopub.execute_input": "2023-05-04T16:05:21.836185Z",
     "iopub.status.busy": "2023-05-04T16:05:21.835477Z",
     "iopub.status.idle": "2023-05-04T16:05:21.845558Z",
     "shell.execute_reply": "2023-05-04T16:05:21.844094Z",
     "shell.execute_reply.started": "2023-05-04T16:05:21.836140Z"
    },
    "id": "npzZvZ_Um2yH",
    "outputId": "8bff58c0-0014-4216-c895-e2ab6a3032df"
   },
   "outputs": [
    {
     "name": "stdout",
     "output_type": "stream",
     "text": [
      "Best metric value ROC-AUC=0.711314521294548 with parameters:\n",
      "\n",
      "constant_dropper_tol = 0.9557954468675777\n",
      "correlated_dropper_threshold = 0.8855770961849819\n",
      "learning_rate = 0.044404788978171135\n",
      "n_estimators = 4726.111139395441\n",
      "num_leaves = 67.40331539250789\n",
      "rare_encoder_tol = 0.04731957459914713\n",
      "reg_alpha = 13.227780605231349\n",
      "reg_lambda = 38.71168447171083\n",
      "boosting_type = gbdt\n"
     ]
    }
   ],
   "source": [
    "print(f'Best metric value ROC-AUC={best_score} with parameters:\\n')\n",
    "for param, value in best_parameters.items():\n",
    "    print(f'{param} = {value}')"
   ]
  },
  {
   "cell_type": "markdown",
   "metadata": {
    "id": "n-mXUuF72-6z"
   },
   "source": [
    "## Model evaluation"
   ]
  },
  {
   "cell_type": "code",
   "execution_count": 54,
   "metadata": {
    "execution": {
     "iopub.execute_input": "2023-05-04T16:05:21.848465Z",
     "iopub.status.busy": "2023-05-04T16:05:21.847949Z",
     "iopub.status.idle": "2023-05-04T16:05:21.867312Z",
     "shell.execute_reply": "2023-05-04T16:05:21.866335Z",
     "shell.execute_reply.started": "2023-05-04T16:05:21.848419Z"
    },
    "id": "JWVR-muRJ77Y"
   },
   "outputs": [],
   "source": [
    "final_pipeline = Pipeline(steps=[\n",
    "\n",
    "    # Create additional features and\n",
    "    # Bringing the dataframe to a convenient form\n",
    "    ('indexer', FunctionTransformer(set_index)),\n",
    "    ('imputer', FunctionTransformer(fill_missings)),\n",
    "    ('engineer', FunctionTransformer(create_features)),\n",
    "    ('dropper', DropFeatures(['client_id', 'visit_date', 'visit_time',\n",
    "                               'device_screen_resolution'])),\n",
    "\n",
    "    # Transformations of numerical variables\n",
    "    ('normalization', YeoJohnsonTransformer()),\n",
    "    ('outlier_remover', Winsorizer()),\n",
    "    ('scaler', SklearnTransformerWrapper(StandardScaler())),\n",
    "\n",
    "    # Transformations of categorical features\n",
    "    ('rare_encoder', RareLabelEncoder(tol=0.03541, replace_with='rare')),\n",
    "    ('onehot_encoder', OneHotEncoder(drop_last_binary=True)),\n",
    "    ('bool_converter', FunctionTransformer(converse_types)),\n",
    "\n",
    "    # Removing duplicates and correlated features\n",
    "    ('constant_dropper', DropConstantFeatures(tol=0.9767)),\n",
    "    ('duplicated_dropper', DropDuplicateFeatures()),\n",
    "    ('correlated_dropper', DropCorrelatedFeatures(threshold=0.8633)),\n",
    "\n",
    "    # Best model with optimized hyperparameters\n",
    "    ('model', LGBMClassifier(\n",
    "        random_state=RANDOM_SEED, learning_rate=0.04197, boosting_type='gbdt',\n",
    "        n_estimators=4700, reg_lambda=2.237, reg_alpha=8.335, num_leaves=16)),\n",
    "\n",
    "])"
   ]
  },
  {
   "cell_type": "markdown",
   "metadata": {
    "id": "oafZ3oICgABQ"
   },
   "source": [
    "### Model metrics\n",
    "\n",
    "To evaluate the metrics of the model, we train it on the objects of the training and validation sets and make predictions on the test data.\n",
    "\n",
    "The target metric `roc-auc=0.6534` (for predicted classes) of the selected model exceeds 0.65, which means that the goal of the work is fulfilled.\n",
    "\n",
    "Although the metric `f1=0.0849` is quite low, which is not surprising given the large number of misclassified zero class objects.\n",
    "\n",
    "The model has very little overfitting."
   ]
  },
  {
   "cell_type": "code",
   "execution_count": 55,
   "metadata": {
    "execution": {
     "iopub.execute_input": "2023-05-04T16:05:21.870200Z",
     "iopub.status.busy": "2023-05-04T16:05:21.869365Z",
     "iopub.status.idle": "2023-05-04T16:15:29.541049Z",
     "shell.execute_reply": "2023-05-04T16:15:29.540041Z",
     "shell.execute_reply.started": "2023-05-04T16:05:21.870157Z"
    },
    "id": "5PrafZ4L3Xnj"
   },
   "outputs": [],
   "source": [
    "final_pipeline.fit(X, y);"
   ]
  },
  {
   "cell_type": "code",
   "execution_count": 56,
   "metadata": {
    "colab": {
     "base_uri": "https://localhost:8080/"
    },
    "execution": {
     "iopub.execute_input": "2023-05-04T16:15:29.543336Z",
     "iopub.status.busy": "2023-05-04T16:15:29.542761Z",
     "iopub.status.idle": "2023-05-04T16:16:10.678414Z",
     "shell.execute_reply": "2023-05-04T16:16:10.677264Z",
     "shell.execute_reply.started": "2023-05-04T16:15:29.543303Z"
    },
    "id": "Y3sbdVdEUgw0",
    "outputId": "bc65ace9-343b-4068-de62-f59b1de969c1"
   },
   "outputs": [
    {
     "name": "stdout",
     "output_type": "stream",
     "text": [
      "Best threshold for translating probabilities into a class: 0.02696240297922981\n"
     ]
    }
   ],
   "source": [
    "test_proba = final_pipeline.predict_proba(X_test)[:, 1]\n",
    "best_threshold = find_best_threshold(y_test, test_proba)\n",
    "test_prediction = (test_proba > best_threshold).astype(int)\n",
    "\n",
    "print(f'Best threshold for translating probabilities into a class:', best_threshold)"
   ]
  },
  {
   "cell_type": "code",
   "execution_count": 57,
   "metadata": {
    "colab": {
     "base_uri": "https://localhost:8080/"
    },
    "execution": {
     "iopub.execute_input": "2023-05-04T16:16:10.680868Z",
     "iopub.status.busy": "2023-05-04T16:16:10.680206Z",
     "iopub.status.idle": "2023-05-04T16:20:20.238451Z",
     "shell.execute_reply": "2023-05-04T16:20:20.237156Z",
     "shell.execute_reply.started": "2023-05-04T16:16:10.680826Z"
    },
    "id": "OMPFEzUXUgtP",
    "outputId": "4607bd5c-4aaf-41a3-e2d9-eb5f1f79eaeb"
   },
   "outputs": [
    {
     "name": "stdout",
     "output_type": "stream",
     "text": [
      "Metrics of the best model on the training set:\n",
      "Threshold for translating probabilities into classes: 0.02696240297922981\n",
      "0.7630386908854634 - roc_auc on probabilities\n",
      "\n",
      "0.68993476 - roc_auc\n",
      "0.62989611 - accuracy\n",
      "0.05309772 - precision\n",
      "0.75340727 - recall\n",
      "0.09920387 - f1\n",
      "\n",
      "prediction|   0.0    |   1.0    \n",
      "true label|          |          \n",
      "--------------------------------\n",
      "       0.0|   1011823|    603315\n",
      "       1.0|     11073|     33831\n"
     ]
    }
   ],
   "source": [
    "print('Metrics of the best model on the training set:')\n",
    "print_metrics(final_pipeline, X, y, best_threshold)"
   ]
  },
  {
   "cell_type": "code",
   "execution_count": 58,
   "metadata": {
    "colab": {
     "base_uri": "https://localhost:8080/",
     "height": 589
    },
    "execution": {
     "iopub.execute_input": "2023-05-04T16:20:20.248048Z",
     "iopub.status.busy": "2023-05-04T16:20:20.247643Z",
     "iopub.status.idle": "2023-05-04T16:20:50.881646Z",
     "shell.execute_reply": "2023-05-04T16:20:50.880182Z",
     "shell.execute_reply.started": "2023-05-04T16:20:20.248011Z"
    },
    "id": "QoGbh-kvJ5rI",
    "outputId": "06bda910-e7b9-4eb5-bb2d-426d8125927f"
   },
   "outputs": [
    {
     "name": "stdout",
     "output_type": "stream",
     "text": [
      "Metrics of the best model on the test set:\n",
      "Threshold for translating probabilities into classes: 0.02696240297922981\n",
      "0.7150317203268942 - roc_auc on probabilities\n",
      "\n",
      "0.65439477 - roc_auc\n",
      "0.62437000 - accuracy\n",
      "0.04812030 - precision\n",
      "0.68613678 - recall\n",
      "0.08993337 - f1\n",
      "\n",
      "prediction|   0.0    |   1.0    \n",
      "true label|          |          \n",
      "--------------------------------\n",
      "       0.0|    121162|     73428\n",
      "       1.0|      1698|      3712\n",
      "\n"
     ]
    },
    {
     "data": {
      "image/png": "[encoded data removed]",
      "text/plain": [
       "<Figure size 700x400 with 1 Axes>"
      ]
     },
     "metadata": {},
     "output_type": "display_data"
    }
   ],
   "source": [
    "print('Metrics of the best model on the test set:')\n",
    "print_metrics(final_pipeline, X_test, y_test, best_threshold, show_roc_curve=True)"
   ]
  },
  {
   "cell_type": "markdown",
   "metadata": {
    "id": "rmqEm1P2nT94"
   },
   "source": [
    "### Training on all data\n",
    "\n",
    "To analyze data processing and the importance of features, we split the final pipeline into a preprocessor and a model and train them on all data. And before saving the model, let's combine it back."
   ]
  },
  {
   "cell_type": "code",
   "execution_count": 59,
   "metadata": {
    "execution": {
     "iopub.execute_input": "2023-05-04T16:20:50.884279Z",
     "iopub.status.busy": "2023-05-04T16:20:50.883523Z",
     "iopub.status.idle": "2023-05-04T16:20:50.888630Z",
     "shell.execute_reply": "2023-05-04T16:20:50.887821Z",
     "shell.execute_reply.started": "2023-05-04T16:20:50.884237Z"
    },
    "id": "40ri9TC6MbLJ"
   },
   "outputs": [],
   "source": [
    "final_model = final_pipeline.named_steps['model']\n",
    "final_preprocessor = final_pipeline.set_params(model=None)"
   ]
  },
  {
   "cell_type": "code",
   "execution_count": 60,
   "metadata": {
    "execution": {
     "iopub.execute_input": "2023-05-04T16:20:50.890159Z",
     "iopub.status.busy": "2023-05-04T16:20:50.889849Z",
     "iopub.status.idle": "2023-05-04T16:23:33.085330Z",
     "shell.execute_reply": "2023-05-04T16:23:33.084054Z",
     "shell.execute_reply.started": "2023-05-04T16:20:50.890132Z"
    },
    "id": "Zb-xUv8GzPtR"
   },
   "outputs": [],
   "source": [
    "sessions_preprocessed = final_preprocessor.fit_transform(sessions)"
   ]
  },
  {
   "cell_type": "code",
   "execution_count": 61,
   "metadata": {
    "execution": {
     "iopub.execute_input": "2023-05-04T16:23:33.087919Z",
     "iopub.status.busy": "2023-05-04T16:23:33.087058Z",
     "iopub.status.idle": "2023-05-04T16:30:47.668446Z",
     "shell.execute_reply": "2023-05-04T16:30:47.667196Z",
     "shell.execute_reply.started": "2023-05-04T16:23:33.087864Z"
    },
    "id": "-kdJDViDVV6B"
   },
   "outputs": [],
   "source": [
    "final_model.fit(sessions_preprocessed, target);"
   ]
  },
  {
   "cell_type": "markdown",
   "metadata": {
    "id": "nAkkyr8O4wjG"
   },
   "source": [
    "### Data processing analysis\n",
    "\n",
    "As a result of all transformations, 62 features are obtained, despite the fact that another 16 features were removed due to correlations, etc.\n",
    "\n",
    "The dataset has 175,034 duplicates, but experiments have shown that removing duplicates from the training set leads to a slight deterioration in the metrics.\n",
    "\n",
    "There are no features correlated with the target variable."
   ]
  },
  {
   "cell_type": "code",
   "execution_count": 62,
   "metadata": {
    "colab": {
     "base_uri": "https://localhost:8080/",
     "height": 319
    },
    "execution": {
     "iopub.execute_input": "2023-05-04T16:30:47.670779Z",
     "iopub.status.busy": "2023-05-04T16:30:47.670290Z",
     "iopub.status.idle": "2023-05-04T16:30:47.760667Z",
     "shell.execute_reply": "2023-05-04T16:30:47.759491Z",
     "shell.execute_reply.started": "2023-05-04T16:30:47.670729Z"
    },
    "id": "O08IthBdYwd2",
    "outputId": "28a29ed1-06c0-441b-e5d0-c254e372a2f6"
   },
   "outputs": [
    {
     "data": {
      "text/html": [
       "<div>\n",
       "<style scoped>\n",
       "    .dataframe tbody tr th:only-of-type {\n",
       "        vertical-align: middle;\n",
       "    }\n",
       "\n",
       "    .dataframe tbody tr th {\n",
       "        vertical-align: top;\n",
       "    }\n",
       "\n",
       "    .dataframe thead th {\n",
       "        text-align: right;\n",
       "    }\n",
       "</style>\n",
       "<table border=\"1\" class=\"dataframe\">\n",
       "  <thead>\n",
       "    <tr style=\"text-align: right;\">\n",
       "      <th></th>\n",
       "      <th>visit_number</th>\n",
       "      <th>visit_date_weekday</th>\n",
       "      <th>visit_date_weekend</th>\n",
       "      <th>visit_date_day</th>\n",
       "      <th>visit_time_hour</th>\n",
       "      <th>visit_time_minute</th>\n",
       "      <th>visit_time_night</th>\n",
       "      <th>utm_medium_added_is_organic</th>\n",
       "      <th>utm_source_added_is_social</th>\n",
       "      <th>device_screen_resolution_width</th>\n",
       "      <th>device_screen_resolution_height</th>\n",
       "      <th>device_screen_resolution_ratio</th>\n",
       "      <th>geo_city_added_is_moscow_region</th>\n",
       "      <th>geo_city_added_is_big</th>\n",
       "      <th>geo_city_is_big_or_in_moscow_region</th>\n",
       "      <th>geo_city_added_distance_from_moscow</th>\n",
       "      <th>utm_source_ZpYIoDJMcFzVoPFsHGJL</th>\n",
       "      <th>utm_source_MvfHsxITijuriZxsqZqt</th>\n",
       "      <th>utm_source_kjsLglQLzykiRbcDiGcD</th>\n",
       "      <th>utm_source_rare</th>\n",
       "      <th>utm_source_fDLlAcSmythWSCVMvqvL</th>\n",
       "      <th>utm_source_BHcvLfOaCWvWTykYqHVe</th>\n",
       "      <th>utm_source_bByPQxmDaMXgpHeypKSM</th>\n",
       "      <th>utm_medium_cpm</th>\n",
       "      <th>utm_medium_cpc</th>\n",
       "      <th>utm_medium_rare</th>\n",
       "      <th>utm_medium_referral</th>\n",
       "      <th>utm_campaign_LEoPHuyFvzoNfnzGgfcd</th>\n",
       "      <th>utm_campaign_(nan)</th>\n",
       "      <th>utm_campaign_gecBYcKZCPMcVYdSSzKP</th>\n",
       "      <th>utm_campaign_rare</th>\n",
       "      <th>utm_adcontent_vCIpmpaGBnIQhyYNkXqp</th>\n",
       "      <th>utm_adcontent_xhoenQgDQsgfEPYNPwKO</th>\n",
       "      <th>utm_adcontent_rare</th>\n",
       "      <th>utm_adcontent_(nan)</th>\n",
       "      <th>utm_adcontent_JNHcPlZPxEMWDnRiyoBf</th>\n",
       "      <th>utm_keyword_puhZPIYqKXeFPaUviSjo</th>\n",
       "      <th>utm_keyword_rare</th>\n",
       "      <th>device_category_desktop</th>\n",
       "      <th>device_os_Android</th>\n",
       "      <th>device_os_iOS</th>\n",
       "      <th>device_os_Windows</th>\n",
       "      <th>device_brand_Huawei</th>\n",
       "      <th>device_brand_Samsung</th>\n",
       "      <th>device_brand_Xiaomi</th>\n",
       "      <th>device_brand_Apple</th>\n",
       "      <th>device_brand_rare</th>\n",
       "      <th>device_browser_Chrome</th>\n",
       "      <th>device_browser_rare</th>\n",
       "      <th>device_browser_Safari</th>\n",
       "      <th>device_browser_YaBrowser</th>\n",
       "      <th>device_browser_Safari (in-app)</th>\n",
       "      <th>geo_country_Russia</th>\n",
       "      <th>geo_city_rare</th>\n",
       "      <th>geo_city_Moscow</th>\n",
       "      <th>geo_city_Saint Petersburg</th>\n",
       "      <th>geo_city_(not set)</th>\n",
       "      <th>geo_city_added_distance_from_moscow_category_1000-3000 km</th>\n",
       "      <th>geo_city_added_distance_from_moscow_category_&gt;= 3000 km</th>\n",
       "      <th>geo_city_added_distance_from_moscow_category_500-1000 km</th>\n",
       "      <th>geo_city_added_distance_from_moscow_category_100-500 km</th>\n",
       "      <th>geo_city_added_distance_from_moscow_category_no distance</th>\n",
       "    </tr>\n",
       "    <tr>\n",
       "      <th>session_id</th>\n",
       "      <th></th>\n",
       "      <th></th>\n",
       "      <th></th>\n",
       "      <th></th>\n",
       "      <th></th>\n",
       "      <th></th>\n",
       "      <th></th>\n",
       "      <th></th>\n",
       "      <th></th>\n",
       "      <th></th>\n",
       "      <th></th>\n",
       "      <th></th>\n",
       "      <th></th>\n",
       "      <th></th>\n",
       "      <th></th>\n",
       "      <th></th>\n",
       "      <th></th>\n",
       "      <th></th>\n",
       "      <th></th>\n",
       "      <th></th>\n",
       "      <th></th>\n",
       "      <th></th>\n",
       "      <th></th>\n",
       "      <th></th>\n",
       "      <th></th>\n",
       "      <th></th>\n",
       "      <th></th>\n",
       "      <th></th>\n",
       "      <th></th>\n",
       "      <th></th>\n",
       "      <th></th>\n",
       "      <th></th>\n",
       "      <th></th>\n",
       "      <th></th>\n",
       "      <th></th>\n",
       "      <th></th>\n",
       "      <th></th>\n",
       "      <th></th>\n",
       "      <th></th>\n",
       "      <th></th>\n",
       "      <th></th>\n",
       "      <th></th>\n",
       "      <th></th>\n",
       "      <th></th>\n",
       "      <th></th>\n",
       "      <th></th>\n",
       "      <th></th>\n",
       "      <th></th>\n",
       "      <th></th>\n",
       "      <th></th>\n",
       "      <th></th>\n",
       "      <th></th>\n",
       "      <th></th>\n",
       "      <th></th>\n",
       "      <th></th>\n",
       "      <th></th>\n",
       "      <th></th>\n",
       "      <th></th>\n",
       "      <th></th>\n",
       "      <th></th>\n",
       "      <th></th>\n",
       "      <th></th>\n",
       "    </tr>\n",
       "  </thead>\n",
       "  <tbody>\n",
       "    <tr>\n",
       "      <th>9055434745589932991.1637753792.1637753792</th>\n",
       "      <td>-0.585990</td>\n",
       "      <td>-0.311302</td>\n",
       "      <td>0.0</td>\n",
       "      <td>0.803575</td>\n",
       "      <td>0.014750</td>\n",
       "      <td>1.339048</td>\n",
       "      <td>0.0</td>\n",
       "      <td>0.0</td>\n",
       "      <td>0.0</td>\n",
       "      <td>-0.829017</td>\n",
       "      <td>-0.686586</td>\n",
       "      <td>-0.311484</td>\n",
       "      <td>0.0</td>\n",
       "      <td>0.0</td>\n",
       "      <td>0.0</td>\n",
       "      <td>1.193088</td>\n",
       "      <td>1.0</td>\n",
       "      <td>0.0</td>\n",
       "      <td>0.0</td>\n",
       "      <td>0.0</td>\n",
       "      <td>0.0</td>\n",
       "      <td>0.0</td>\n",
       "      <td>0.0</td>\n",
       "      <td>0.0</td>\n",
       "      <td>0.0</td>\n",
       "      <td>0.0</td>\n",
       "      <td>0.0</td>\n",
       "      <td>1.0</td>\n",
       "      <td>0.0</td>\n",
       "      <td>0.0</td>\n",
       "      <td>0.0</td>\n",
       "      <td>1.0</td>\n",
       "      <td>0.0</td>\n",
       "      <td>0.0</td>\n",
       "      <td>0.0</td>\n",
       "      <td>0.0</td>\n",
       "      <td>1.0</td>\n",
       "      <td>0.0</td>\n",
       "      <td>0.0</td>\n",
       "      <td>1.0</td>\n",
       "      <td>0.0</td>\n",
       "      <td>0.0</td>\n",
       "      <td>1.0</td>\n",
       "      <td>0.0</td>\n",
       "      <td>0.0</td>\n",
       "      <td>0.0</td>\n",
       "      <td>0.0</td>\n",
       "      <td>1.0</td>\n",
       "      <td>0.0</td>\n",
       "      <td>0.0</td>\n",
       "      <td>0.0</td>\n",
       "      <td>0.0</td>\n",
       "      <td>1.0</td>\n",
       "      <td>1.0</td>\n",
       "      <td>0.0</td>\n",
       "      <td>0.0</td>\n",
       "      <td>0.0</td>\n",
       "      <td>1.0</td>\n",
       "      <td>0.0</td>\n",
       "      <td>0.0</td>\n",
       "      <td>0.0</td>\n",
       "      <td>0.0</td>\n",
       "    </tr>\n",
       "    <tr>\n",
       "      <th>905544597018549464.1636867290.1636867290</th>\n",
       "      <td>-0.585990</td>\n",
       "      <td>1.485929</td>\n",
       "      <td>1.0</td>\n",
       "      <td>-0.307346</td>\n",
       "      <td>-0.957672</td>\n",
       "      <td>1.163018</td>\n",
       "      <td>1.0</td>\n",
       "      <td>0.0</td>\n",
       "      <td>1.0</td>\n",
       "      <td>-0.447866</td>\n",
       "      <td>0.183252</td>\n",
       "      <td>-0.789287</td>\n",
       "      <td>0.0</td>\n",
       "      <td>1.0</td>\n",
       "      <td>1.0</td>\n",
       "      <td>-0.885489</td>\n",
       "      <td>0.0</td>\n",
       "      <td>1.0</td>\n",
       "      <td>0.0</td>\n",
       "      <td>0.0</td>\n",
       "      <td>0.0</td>\n",
       "      <td>0.0</td>\n",
       "      <td>0.0</td>\n",
       "      <td>1.0</td>\n",
       "      <td>0.0</td>\n",
       "      <td>0.0</td>\n",
       "      <td>0.0</td>\n",
       "      <td>0.0</td>\n",
       "      <td>0.0</td>\n",
       "      <td>0.0</td>\n",
       "      <td>0.0</td>\n",
       "      <td>0.0</td>\n",
       "      <td>1.0</td>\n",
       "      <td>0.0</td>\n",
       "      <td>0.0</td>\n",
       "      <td>0.0</td>\n",
       "      <td>0.0</td>\n",
       "      <td>1.0</td>\n",
       "      <td>0.0</td>\n",
       "      <td>1.0</td>\n",
       "      <td>0.0</td>\n",
       "      <td>0.0</td>\n",
       "      <td>0.0</td>\n",
       "      <td>1.0</td>\n",
       "      <td>0.0</td>\n",
       "      <td>0.0</td>\n",
       "      <td>0.0</td>\n",
       "      <td>0.0</td>\n",
       "      <td>1.0</td>\n",
       "      <td>0.0</td>\n",
       "      <td>0.0</td>\n",
       "      <td>0.0</td>\n",
       "      <td>1.0</td>\n",
       "      <td>0.0</td>\n",
       "      <td>1.0</td>\n",
       "      <td>0.0</td>\n",
       "      <td>0.0</td>\n",
       "      <td>0.0</td>\n",
       "      <td>0.0</td>\n",
       "      <td>0.0</td>\n",
       "      <td>0.0</td>\n",
       "      <td>0.0</td>\n",
       "    </tr>\n",
       "    <tr>\n",
       "      <th>9055446045651783499.1640648526.1640648526</th>\n",
       "      <td>-0.585990</td>\n",
       "      <td>-0.877065</td>\n",
       "      <td>0.0</td>\n",
       "      <td>1.234404</td>\n",
       "      <td>-1.803240</td>\n",
       "      <td>1.382257</td>\n",
       "      <td>1.0</td>\n",
       "      <td>0.0</td>\n",
       "      <td>0.0</td>\n",
       "      <td>-0.829017</td>\n",
       "      <td>-0.686586</td>\n",
       "      <td>-0.311484</td>\n",
       "      <td>0.0</td>\n",
       "      <td>1.0</td>\n",
       "      <td>1.0</td>\n",
       "      <td>1.407094</td>\n",
       "      <td>1.0</td>\n",
       "      <td>0.0</td>\n",
       "      <td>0.0</td>\n",
       "      <td>0.0</td>\n",
       "      <td>0.0</td>\n",
       "      <td>0.0</td>\n",
       "      <td>0.0</td>\n",
       "      <td>0.0</td>\n",
       "      <td>0.0</td>\n",
       "      <td>0.0</td>\n",
       "      <td>0.0</td>\n",
       "      <td>1.0</td>\n",
       "      <td>0.0</td>\n",
       "      <td>0.0</td>\n",
       "      <td>0.0</td>\n",
       "      <td>1.0</td>\n",
       "      <td>0.0</td>\n",
       "      <td>0.0</td>\n",
       "      <td>0.0</td>\n",
       "      <td>0.0</td>\n",
       "      <td>1.0</td>\n",
       "      <td>0.0</td>\n",
       "      <td>0.0</td>\n",
       "      <td>1.0</td>\n",
       "      <td>0.0</td>\n",
       "      <td>0.0</td>\n",
       "      <td>1.0</td>\n",
       "      <td>0.0</td>\n",
       "      <td>0.0</td>\n",
       "      <td>0.0</td>\n",
       "      <td>0.0</td>\n",
       "      <td>1.0</td>\n",
       "      <td>0.0</td>\n",
       "      <td>0.0</td>\n",
       "      <td>0.0</td>\n",
       "      <td>0.0</td>\n",
       "      <td>1.0</td>\n",
       "      <td>1.0</td>\n",
       "      <td>0.0</td>\n",
       "      <td>0.0</td>\n",
       "      <td>0.0</td>\n",
       "      <td>0.0</td>\n",
       "      <td>1.0</td>\n",
       "      <td>0.0</td>\n",
       "      <td>0.0</td>\n",
       "      <td>0.0</td>\n",
       "    </tr>\n",
       "    <tr>\n",
       "      <th>9055447046360770272.1622255328.1622255328</th>\n",
       "      <td>-0.585990</td>\n",
       "      <td>1.084097</td>\n",
       "      <td>1.0</td>\n",
       "      <td>1.341147</td>\n",
       "      <td>-1.400897</td>\n",
       "      <td>-0.822162</td>\n",
       "      <td>1.0</td>\n",
       "      <td>0.0</td>\n",
       "      <td>0.0</td>\n",
       "      <td>-0.342270</td>\n",
       "      <td>-0.242671</td>\n",
       "      <td>-0.311484</td>\n",
       "      <td>0.0</td>\n",
       "      <td>1.0</td>\n",
       "      <td>1.0</td>\n",
       "      <td>-0.885489</td>\n",
       "      <td>0.0</td>\n",
       "      <td>0.0</td>\n",
       "      <td>1.0</td>\n",
       "      <td>0.0</td>\n",
       "      <td>0.0</td>\n",
       "      <td>0.0</td>\n",
       "      <td>0.0</td>\n",
       "      <td>0.0</td>\n",
       "      <td>1.0</td>\n",
       "      <td>0.0</td>\n",
       "      <td>0.0</td>\n",
       "      <td>0.0</td>\n",
       "      <td>1.0</td>\n",
       "      <td>0.0</td>\n",
       "      <td>0.0</td>\n",
       "      <td>0.0</td>\n",
       "      <td>0.0</td>\n",
       "      <td>1.0</td>\n",
       "      <td>0.0</td>\n",
       "      <td>0.0</td>\n",
       "      <td>0.0</td>\n",
       "      <td>0.0</td>\n",
       "      <td>0.0</td>\n",
       "      <td>0.0</td>\n",
       "      <td>0.0</td>\n",
       "      <td>0.0</td>\n",
       "      <td>0.0</td>\n",
       "      <td>0.0</td>\n",
       "      <td>1.0</td>\n",
       "      <td>0.0</td>\n",
       "      <td>0.0</td>\n",
       "      <td>1.0</td>\n",
       "      <td>0.0</td>\n",
       "      <td>0.0</td>\n",
       "      <td>0.0</td>\n",
       "      <td>0.0</td>\n",
       "      <td>1.0</td>\n",
       "      <td>0.0</td>\n",
       "      <td>1.0</td>\n",
       "      <td>0.0</td>\n",
       "      <td>0.0</td>\n",
       "      <td>0.0</td>\n",
       "      <td>0.0</td>\n",
       "      <td>0.0</td>\n",
       "      <td>0.0</td>\n",
       "      <td>0.0</td>\n",
       "    </tr>\n",
       "    <tr>\n",
       "      <th>9055447046360770272.1622255345.1622255345</th>\n",
       "      <td>1.373905</td>\n",
       "      <td>1.084097</td>\n",
       "      <td>1.0</td>\n",
       "      <td>1.341147</td>\n",
       "      <td>-1.400897</td>\n",
       "      <td>-0.822162</td>\n",
       "      <td>1.0</td>\n",
       "      <td>0.0</td>\n",
       "      <td>0.0</td>\n",
       "      <td>-0.342270</td>\n",
       "      <td>-0.242671</td>\n",
       "      <td>-0.311484</td>\n",
       "      <td>0.0</td>\n",
       "      <td>1.0</td>\n",
       "      <td>1.0</td>\n",
       "      <td>-0.885489</td>\n",
       "      <td>0.0</td>\n",
       "      <td>0.0</td>\n",
       "      <td>1.0</td>\n",
       "      <td>0.0</td>\n",
       "      <td>0.0</td>\n",
       "      <td>0.0</td>\n",
       "      <td>0.0</td>\n",
       "      <td>0.0</td>\n",
       "      <td>1.0</td>\n",
       "      <td>0.0</td>\n",
       "      <td>0.0</td>\n",
       "      <td>0.0</td>\n",
       "      <td>1.0</td>\n",
       "      <td>0.0</td>\n",
       "      <td>0.0</td>\n",
       "      <td>0.0</td>\n",
       "      <td>0.0</td>\n",
       "      <td>0.0</td>\n",
       "      <td>1.0</td>\n",
       "      <td>0.0</td>\n",
       "      <td>0.0</td>\n",
       "      <td>0.0</td>\n",
       "      <td>0.0</td>\n",
       "      <td>0.0</td>\n",
       "      <td>0.0</td>\n",
       "      <td>0.0</td>\n",
       "      <td>0.0</td>\n",
       "      <td>0.0</td>\n",
       "      <td>1.0</td>\n",
       "      <td>0.0</td>\n",
       "      <td>0.0</td>\n",
       "      <td>1.0</td>\n",
       "      <td>0.0</td>\n",
       "      <td>0.0</td>\n",
       "      <td>0.0</td>\n",
       "      <td>0.0</td>\n",
       "      <td>1.0</td>\n",
       "      <td>0.0</td>\n",
       "      <td>1.0</td>\n",
       "      <td>0.0</td>\n",
       "      <td>0.0</td>\n",
       "      <td>0.0</td>\n",
       "      <td>0.0</td>\n",
       "      <td>0.0</td>\n",
       "      <td>0.0</td>\n",
       "      <td>0.0</td>\n",
       "    </tr>\n",
       "  </tbody>\n",
       "</table>\n",
       "</div>"
      ],
      "text/plain": [
       "                                           visit_number  visit_date_weekday  \\\n",
       "session_id                                                                    \n",
       "9055434745589932991.1637753792.1637753792     -0.585990           -0.311302   \n",
       "905544597018549464.1636867290.1636867290      -0.585990            1.485929   \n",
       "9055446045651783499.1640648526.1640648526     -0.585990           -0.877065   \n",
       "9055447046360770272.1622255328.1622255328     -0.585990            1.084097   \n",
       "9055447046360770272.1622255345.1622255345      1.373905            1.084097   \n",
       "\n",
       "                                           visit_date_weekend  visit_date_day  \\\n",
       "session_id                                                                      \n",
       "9055434745589932991.1637753792.1637753792                 0.0        0.803575   \n",
       "905544597018549464.1636867290.1636867290                  1.0       -0.307346   \n",
       "9055446045651783499.1640648526.1640648526                 0.0        1.234404   \n",
       "9055447046360770272.1622255328.1622255328                 1.0        1.341147   \n",
       "9055447046360770272.1622255345.1622255345                 1.0        1.341147   \n",
       "\n",
       "                                           visit_time_hour  visit_time_minute  \\\n",
       "session_id                                                                      \n",
       "9055434745589932991.1637753792.1637753792         0.014750           1.339048   \n",
       "905544597018549464.1636867290.1636867290         -0.957672           1.163018   \n",
       "9055446045651783499.1640648526.1640648526        -1.803240           1.382257   \n",
       "9055447046360770272.1622255328.1622255328        -1.400897          -0.822162   \n",
       "9055447046360770272.1622255345.1622255345        -1.400897          -0.822162   \n",
       "\n",
       "                                           visit_time_night  \\\n",
       "session_id                                                    \n",
       "9055434745589932991.1637753792.1637753792               0.0   \n",
       "905544597018549464.1636867290.1636867290                1.0   \n",
       "9055446045651783499.1640648526.1640648526               1.0   \n",
       "9055447046360770272.1622255328.1622255328               1.0   \n",
       "9055447046360770272.1622255345.1622255345               1.0   \n",
       "\n",
       "                                           utm_medium_added_is_organic  \\\n",
       "session_id                                                               \n",
       "9055434745589932991.1637753792.1637753792                          0.0   \n",
       "905544597018549464.1636867290.1636867290                           0.0   \n",
       "9055446045651783499.1640648526.1640648526                          0.0   \n",
       "9055447046360770272.1622255328.1622255328                          0.0   \n",
       "9055447046360770272.1622255345.1622255345                          0.0   \n",
       "\n",
       "                                           utm_source_added_is_social  \\\n",
       "session_id                                                              \n",
       "9055434745589932991.1637753792.1637753792                         0.0   \n",
       "905544597018549464.1636867290.1636867290                          1.0   \n",
       "9055446045651783499.1640648526.1640648526                         0.0   \n",
       "9055447046360770272.1622255328.1622255328                         0.0   \n",
       "9055447046360770272.1622255345.1622255345                         0.0   \n",
       "\n",
       "                                           device_screen_resolution_width  \\\n",
       "session_id                                                                  \n",
       "9055434745589932991.1637753792.1637753792                       -0.829017   \n",
       "905544597018549464.1636867290.1636867290                        -0.447866   \n",
       "9055446045651783499.1640648526.1640648526                       -0.829017   \n",
       "9055447046360770272.1622255328.1622255328                       -0.342270   \n",
       "9055447046360770272.1622255345.1622255345                       -0.342270   \n",
       "\n",
       "                                           device_screen_resolution_height  \\\n",
       "session_id                                                                   \n",
       "9055434745589932991.1637753792.1637753792                        -0.686586   \n",
       "905544597018549464.1636867290.1636867290                          0.183252   \n",
       "9055446045651783499.1640648526.1640648526                        -0.686586   \n",
       "9055447046360770272.1622255328.1622255328                        -0.242671   \n",
       "9055447046360770272.1622255345.1622255345                        -0.242671   \n",
       "\n",
       "                                           device_screen_resolution_ratio  \\\n",
       "session_id                                                                  \n",
       "9055434745589932991.1637753792.1637753792                       -0.311484   \n",
       "905544597018549464.1636867290.1636867290                        -0.789287   \n",
       "9055446045651783499.1640648526.1640648526                       -0.311484   \n",
       "9055447046360770272.1622255328.1622255328                       -0.311484   \n",
       "9055447046360770272.1622255345.1622255345                       -0.311484   \n",
       "\n",
       "                                           geo_city_added_is_moscow_region  \\\n",
       "session_id                                                                   \n",
       "9055434745589932991.1637753792.1637753792                              0.0   \n",
       "905544597018549464.1636867290.1636867290                               0.0   \n",
       "9055446045651783499.1640648526.1640648526                              0.0   \n",
       "9055447046360770272.1622255328.1622255328                              0.0   \n",
       "9055447046360770272.1622255345.1622255345                              0.0   \n",
       "\n",
       "                                           geo_city_added_is_big  \\\n",
       "session_id                                                         \n",
       "9055434745589932991.1637753792.1637753792                    0.0   \n",
       "905544597018549464.1636867290.1636867290                     1.0   \n",
       "9055446045651783499.1640648526.1640648526                    1.0   \n",
       "9055447046360770272.1622255328.1622255328                    1.0   \n",
       "9055447046360770272.1622255345.1622255345                    1.0   \n",
       "\n",
       "                                           geo_city_is_big_or_in_moscow_region  \\\n",
       "session_id                                                                       \n",
       "9055434745589932991.1637753792.1637753792                                  0.0   \n",
       "905544597018549464.1636867290.1636867290                                   1.0   \n",
       "9055446045651783499.1640648526.1640648526                                  1.0   \n",
       "9055447046360770272.1622255328.1622255328                                  1.0   \n",
       "9055447046360770272.1622255345.1622255345                                  1.0   \n",
       "\n",
       "                                           geo_city_added_distance_from_moscow  \\\n",
       "session_id                                                                       \n",
       "9055434745589932991.1637753792.1637753792                             1.193088   \n",
       "905544597018549464.1636867290.1636867290                             -0.885489   \n",
       "9055446045651783499.1640648526.1640648526                             1.407094   \n",
       "9055447046360770272.1622255328.1622255328                            -0.885489   \n",
       "9055447046360770272.1622255345.1622255345                            -0.885489   \n",
       "\n",
       "                                           utm_source_ZpYIoDJMcFzVoPFsHGJL  \\\n",
       "session_id                                                                   \n",
       "9055434745589932991.1637753792.1637753792                              1.0   \n",
       "905544597018549464.1636867290.1636867290                               0.0   \n",
       "9055446045651783499.1640648526.1640648526                              1.0   \n",
       "9055447046360770272.1622255328.1622255328                              0.0   \n",
       "9055447046360770272.1622255345.1622255345                              0.0   \n",
       "\n",
       "                                           utm_source_MvfHsxITijuriZxsqZqt  \\\n",
       "session_id                                                                   \n",
       "9055434745589932991.1637753792.1637753792                              0.0   \n",
       "905544597018549464.1636867290.1636867290                               1.0   \n",
       "9055446045651783499.1640648526.1640648526                              0.0   \n",
       "9055447046360770272.1622255328.1622255328                              0.0   \n",
       "9055447046360770272.1622255345.1622255345                              0.0   \n",
       "\n",
       "                                           utm_source_kjsLglQLzykiRbcDiGcD  \\\n",
       "session_id                                                                   \n",
       "9055434745589932991.1637753792.1637753792                              0.0   \n",
       "905544597018549464.1636867290.1636867290                               0.0   \n",
       "9055446045651783499.1640648526.1640648526                              0.0   \n",
       "9055447046360770272.1622255328.1622255328                              1.0   \n",
       "9055447046360770272.1622255345.1622255345                              1.0   \n",
       "\n",
       "                                           utm_source_rare  \\\n",
       "session_id                                                   \n",
       "9055434745589932991.1637753792.1637753792              0.0   \n",
       "905544597018549464.1636867290.1636867290               0.0   \n",
       "9055446045651783499.1640648526.1640648526              0.0   \n",
       "9055447046360770272.1622255328.1622255328              0.0   \n",
       "9055447046360770272.1622255345.1622255345              0.0   \n",
       "\n",
       "                                           utm_source_fDLlAcSmythWSCVMvqvL  \\\n",
       "session_id                                                                   \n",
       "9055434745589932991.1637753792.1637753792                              0.0   \n",
       "905544597018549464.1636867290.1636867290                               0.0   \n",
       "9055446045651783499.1640648526.1640648526                              0.0   \n",
       "9055447046360770272.1622255328.1622255328                              0.0   \n",
       "9055447046360770272.1622255345.1622255345                              0.0   \n",
       "\n",
       "                                           utm_source_BHcvLfOaCWvWTykYqHVe  \\\n",
       "session_id                                                                   \n",
       "9055434745589932991.1637753792.1637753792                              0.0   \n",
       "905544597018549464.1636867290.1636867290                               0.0   \n",
       "9055446045651783499.1640648526.1640648526                              0.0   \n",
       "9055447046360770272.1622255328.1622255328                              0.0   \n",
       "9055447046360770272.1622255345.1622255345                              0.0   \n",
       "\n",
       "                                           utm_source_bByPQxmDaMXgpHeypKSM  \\\n",
       "session_id                                                                   \n",
       "9055434745589932991.1637753792.1637753792                              0.0   \n",
       "905544597018549464.1636867290.1636867290                               0.0   \n",
       "9055446045651783499.1640648526.1640648526                              0.0   \n",
       "9055447046360770272.1622255328.1622255328                              0.0   \n",
       "9055447046360770272.1622255345.1622255345                              0.0   \n",
       "\n",
       "                                           utm_medium_cpm  utm_medium_cpc  \\\n",
       "session_id                                                                  \n",
       "9055434745589932991.1637753792.1637753792             0.0             0.0   \n",
       "905544597018549464.1636867290.1636867290              1.0             0.0   \n",
       "9055446045651783499.1640648526.1640648526             0.0             0.0   \n",
       "9055447046360770272.1622255328.1622255328             0.0             1.0   \n",
       "9055447046360770272.1622255345.1622255345             0.0             1.0   \n",
       "\n",
       "                                           utm_medium_rare  \\\n",
       "session_id                                                   \n",
       "9055434745589932991.1637753792.1637753792              0.0   \n",
       "905544597018549464.1636867290.1636867290               0.0   \n",
       "9055446045651783499.1640648526.1640648526              0.0   \n",
       "9055447046360770272.1622255328.1622255328              0.0   \n",
       "9055447046360770272.1622255345.1622255345              0.0   \n",
       "\n",
       "                                           utm_medium_referral  \\\n",
       "session_id                                                       \n",
       "9055434745589932991.1637753792.1637753792                  0.0   \n",
       "905544597018549464.1636867290.1636867290                   0.0   \n",
       "9055446045651783499.1640648526.1640648526                  0.0   \n",
       "9055447046360770272.1622255328.1622255328                  0.0   \n",
       "9055447046360770272.1622255345.1622255345                  0.0   \n",
       "\n",
       "                                           utm_campaign_LEoPHuyFvzoNfnzGgfcd  \\\n",
       "session_id                                                                     \n",
       "9055434745589932991.1637753792.1637753792                                1.0   \n",
       "905544597018549464.1636867290.1636867290                                 0.0   \n",
       "9055446045651783499.1640648526.1640648526                                1.0   \n",
       "9055447046360770272.1622255328.1622255328                                0.0   \n",
       "9055447046360770272.1622255345.1622255345                                0.0   \n",
       "\n",
       "                                           utm_campaign_(nan)  \\\n",
       "session_id                                                      \n",
       "9055434745589932991.1637753792.1637753792                 0.0   \n",
       "905544597018549464.1636867290.1636867290                  0.0   \n",
       "9055446045651783499.1640648526.1640648526                 0.0   \n",
       "9055447046360770272.1622255328.1622255328                 1.0   \n",
       "9055447046360770272.1622255345.1622255345                 1.0   \n",
       "\n",
       "                                           utm_campaign_gecBYcKZCPMcVYdSSzKP  \\\n",
       "session_id                                                                     \n",
       "9055434745589932991.1637753792.1637753792                                0.0   \n",
       "905544597018549464.1636867290.1636867290                                 0.0   \n",
       "9055446045651783499.1640648526.1640648526                                0.0   \n",
       "9055447046360770272.1622255328.1622255328                                0.0   \n",
       "9055447046360770272.1622255345.1622255345                                0.0   \n",
       "\n",
       "                                           utm_campaign_rare  \\\n",
       "session_id                                                     \n",
       "9055434745589932991.1637753792.1637753792                0.0   \n",
       "905544597018549464.1636867290.1636867290                 0.0   \n",
       "9055446045651783499.1640648526.1640648526                0.0   \n",
       "9055447046360770272.1622255328.1622255328                0.0   \n",
       "9055447046360770272.1622255345.1622255345                0.0   \n",
       "\n",
       "                                           utm_adcontent_vCIpmpaGBnIQhyYNkXqp  \\\n",
       "session_id                                                                      \n",
       "9055434745589932991.1637753792.1637753792                                 1.0   \n",
       "905544597018549464.1636867290.1636867290                                  0.0   \n",
       "9055446045651783499.1640648526.1640648526                                 1.0   \n",
       "9055447046360770272.1622255328.1622255328                                 0.0   \n",
       "9055447046360770272.1622255345.1622255345                                 0.0   \n",
       "\n",
       "                                           utm_adcontent_xhoenQgDQsgfEPYNPwKO  \\\n",
       "session_id                                                                      \n",
       "9055434745589932991.1637753792.1637753792                                 0.0   \n",
       "905544597018549464.1636867290.1636867290                                  1.0   \n",
       "9055446045651783499.1640648526.1640648526                                 0.0   \n",
       "9055447046360770272.1622255328.1622255328                                 0.0   \n",
       "9055447046360770272.1622255345.1622255345                                 0.0   \n",
       "\n",
       "                                           utm_adcontent_rare  \\\n",
       "session_id                                                      \n",
       "9055434745589932991.1637753792.1637753792                 0.0   \n",
       "905544597018549464.1636867290.1636867290                  0.0   \n",
       "9055446045651783499.1640648526.1640648526                 0.0   \n",
       "9055447046360770272.1622255328.1622255328                 1.0   \n",
       "9055447046360770272.1622255345.1622255345                 0.0   \n",
       "\n",
       "                                           utm_adcontent_(nan)  \\\n",
       "session_id                                                       \n",
       "9055434745589932991.1637753792.1637753792                  0.0   \n",
       "905544597018549464.1636867290.1636867290                   0.0   \n",
       "9055446045651783499.1640648526.1640648526                  0.0   \n",
       "9055447046360770272.1622255328.1622255328                  0.0   \n",
       "9055447046360770272.1622255345.1622255345                  1.0   \n",
       "\n",
       "                                           utm_adcontent_JNHcPlZPxEMWDnRiyoBf  \\\n",
       "session_id                                                                      \n",
       "9055434745589932991.1637753792.1637753792                                 0.0   \n",
       "905544597018549464.1636867290.1636867290                                  0.0   \n",
       "9055446045651783499.1640648526.1640648526                                 0.0   \n",
       "9055447046360770272.1622255328.1622255328                                 0.0   \n",
       "9055447046360770272.1622255345.1622255345                                 0.0   \n",
       "\n",
       "                                           utm_keyword_puhZPIYqKXeFPaUviSjo  \\\n",
       "session_id                                                                    \n",
       "9055434745589932991.1637753792.1637753792                               1.0   \n",
       "905544597018549464.1636867290.1636867290                                0.0   \n",
       "9055446045651783499.1640648526.1640648526                               1.0   \n",
       "9055447046360770272.1622255328.1622255328                               0.0   \n",
       "9055447046360770272.1622255345.1622255345                               0.0   \n",
       "\n",
       "                                           utm_keyword_rare  \\\n",
       "session_id                                                    \n",
       "9055434745589932991.1637753792.1637753792               0.0   \n",
       "905544597018549464.1636867290.1636867290                1.0   \n",
       "9055446045651783499.1640648526.1640648526               0.0   \n",
       "9055447046360770272.1622255328.1622255328               0.0   \n",
       "9055447046360770272.1622255345.1622255345               0.0   \n",
       "\n",
       "                                           device_category_desktop  \\\n",
       "session_id                                                           \n",
       "9055434745589932991.1637753792.1637753792                      0.0   \n",
       "905544597018549464.1636867290.1636867290                       0.0   \n",
       "9055446045651783499.1640648526.1640648526                      0.0   \n",
       "9055447046360770272.1622255328.1622255328                      0.0   \n",
       "9055447046360770272.1622255345.1622255345                      0.0   \n",
       "\n",
       "                                           device_os_Android  device_os_iOS  \\\n",
       "session_id                                                                    \n",
       "9055434745589932991.1637753792.1637753792                1.0            0.0   \n",
       "905544597018549464.1636867290.1636867290                 1.0            0.0   \n",
       "9055446045651783499.1640648526.1640648526                1.0            0.0   \n",
       "9055447046360770272.1622255328.1622255328                0.0            0.0   \n",
       "9055447046360770272.1622255345.1622255345                0.0            0.0   \n",
       "\n",
       "                                           device_os_Windows  \\\n",
       "session_id                                                     \n",
       "9055434745589932991.1637753792.1637753792                0.0   \n",
       "905544597018549464.1636867290.1636867290                 0.0   \n",
       "9055446045651783499.1640648526.1640648526                0.0   \n",
       "9055447046360770272.1622255328.1622255328                0.0   \n",
       "9055447046360770272.1622255345.1622255345                0.0   \n",
       "\n",
       "                                           device_brand_Huawei  \\\n",
       "session_id                                                       \n",
       "9055434745589932991.1637753792.1637753792                  1.0   \n",
       "905544597018549464.1636867290.1636867290                   0.0   \n",
       "9055446045651783499.1640648526.1640648526                  1.0   \n",
       "9055447046360770272.1622255328.1622255328                  0.0   \n",
       "9055447046360770272.1622255345.1622255345                  0.0   \n",
       "\n",
       "                                           device_brand_Samsung  \\\n",
       "session_id                                                        \n",
       "9055434745589932991.1637753792.1637753792                   0.0   \n",
       "905544597018549464.1636867290.1636867290                    1.0   \n",
       "9055446045651783499.1640648526.1640648526                   0.0   \n",
       "9055447046360770272.1622255328.1622255328                   0.0   \n",
       "9055447046360770272.1622255345.1622255345                   0.0   \n",
       "\n",
       "                                           device_brand_Xiaomi  \\\n",
       "session_id                                                       \n",
       "9055434745589932991.1637753792.1637753792                  0.0   \n",
       "905544597018549464.1636867290.1636867290                   0.0   \n",
       "9055446045651783499.1640648526.1640648526                  0.0   \n",
       "9055447046360770272.1622255328.1622255328                  1.0   \n",
       "9055447046360770272.1622255345.1622255345                  1.0   \n",
       "\n",
       "                                           device_brand_Apple  \\\n",
       "session_id                                                      \n",
       "9055434745589932991.1637753792.1637753792                 0.0   \n",
       "905544597018549464.1636867290.1636867290                  0.0   \n",
       "9055446045651783499.1640648526.1640648526                 0.0   \n",
       "9055447046360770272.1622255328.1622255328                 0.0   \n",
       "9055447046360770272.1622255345.1622255345                 0.0   \n",
       "\n",
       "                                           device_brand_rare  \\\n",
       "session_id                                                     \n",
       "9055434745589932991.1637753792.1637753792                0.0   \n",
       "905544597018549464.1636867290.1636867290                 0.0   \n",
       "9055446045651783499.1640648526.1640648526                0.0   \n",
       "9055447046360770272.1622255328.1622255328                0.0   \n",
       "9055447046360770272.1622255345.1622255345                0.0   \n",
       "\n",
       "                                           device_browser_Chrome  \\\n",
       "session_id                                                         \n",
       "9055434745589932991.1637753792.1637753792                    1.0   \n",
       "905544597018549464.1636867290.1636867290                     0.0   \n",
       "9055446045651783499.1640648526.1640648526                    1.0   \n",
       "9055447046360770272.1622255328.1622255328                    1.0   \n",
       "9055447046360770272.1622255345.1622255345                    1.0   \n",
       "\n",
       "                                           device_browser_rare  \\\n",
       "session_id                                                       \n",
       "9055434745589932991.1637753792.1637753792                  0.0   \n",
       "905544597018549464.1636867290.1636867290                   1.0   \n",
       "9055446045651783499.1640648526.1640648526                  0.0   \n",
       "9055447046360770272.1622255328.1622255328                  0.0   \n",
       "9055447046360770272.1622255345.1622255345                  0.0   \n",
       "\n",
       "                                           device_browser_Safari  \\\n",
       "session_id                                                         \n",
       "9055434745589932991.1637753792.1637753792                    0.0   \n",
       "905544597018549464.1636867290.1636867290                     0.0   \n",
       "9055446045651783499.1640648526.1640648526                    0.0   \n",
       "9055447046360770272.1622255328.1622255328                    0.0   \n",
       "9055447046360770272.1622255345.1622255345                    0.0   \n",
       "\n",
       "                                           device_browser_YaBrowser  \\\n",
       "session_id                                                            \n",
       "9055434745589932991.1637753792.1637753792                       0.0   \n",
       "905544597018549464.1636867290.1636867290                        0.0   \n",
       "9055446045651783499.1640648526.1640648526                       0.0   \n",
       "9055447046360770272.1622255328.1622255328                       0.0   \n",
       "9055447046360770272.1622255345.1622255345                       0.0   \n",
       "\n",
       "                                           device_browser_Safari (in-app)  \\\n",
       "session_id                                                                  \n",
       "9055434745589932991.1637753792.1637753792                             0.0   \n",
       "905544597018549464.1636867290.1636867290                              0.0   \n",
       "9055446045651783499.1640648526.1640648526                             0.0   \n",
       "9055447046360770272.1622255328.1622255328                             0.0   \n",
       "9055447046360770272.1622255345.1622255345                             0.0   \n",
       "\n",
       "                                           geo_country_Russia  geo_city_rare  \\\n",
       "session_id                                                                     \n",
       "9055434745589932991.1637753792.1637753792                 1.0            1.0   \n",
       "905544597018549464.1636867290.1636867290                  1.0            0.0   \n",
       "9055446045651783499.1640648526.1640648526                 1.0            1.0   \n",
       "9055447046360770272.1622255328.1622255328                 1.0            0.0   \n",
       "9055447046360770272.1622255345.1622255345                 1.0            0.0   \n",
       "\n",
       "                                           geo_city_Moscow  \\\n",
       "session_id                                                   \n",
       "9055434745589932991.1637753792.1637753792              0.0   \n",
       "905544597018549464.1636867290.1636867290               1.0   \n",
       "9055446045651783499.1640648526.1640648526              0.0   \n",
       "9055447046360770272.1622255328.1622255328              1.0   \n",
       "9055447046360770272.1622255345.1622255345              1.0   \n",
       "\n",
       "                                           geo_city_Saint Petersburg  \\\n",
       "session_id                                                             \n",
       "9055434745589932991.1637753792.1637753792                        0.0   \n",
       "905544597018549464.1636867290.1636867290                         0.0   \n",
       "9055446045651783499.1640648526.1640648526                        0.0   \n",
       "9055447046360770272.1622255328.1622255328                        0.0   \n",
       "9055447046360770272.1622255345.1622255345                        0.0   \n",
       "\n",
       "                                           geo_city_(not set)  \\\n",
       "session_id                                                      \n",
       "9055434745589932991.1637753792.1637753792                 0.0   \n",
       "905544597018549464.1636867290.1636867290                  0.0   \n",
       "9055446045651783499.1640648526.1640648526                 0.0   \n",
       "9055447046360770272.1622255328.1622255328                 0.0   \n",
       "9055447046360770272.1622255345.1622255345                 0.0   \n",
       "\n",
       "                                           geo_city_added_distance_from_moscow_category_1000-3000 km  \\\n",
       "session_id                                                                                             \n",
       "9055434745589932991.1637753792.1637753792                                                1.0           \n",
       "905544597018549464.1636867290.1636867290                                                 0.0           \n",
       "9055446045651783499.1640648526.1640648526                                                0.0           \n",
       "9055447046360770272.1622255328.1622255328                                                0.0           \n",
       "9055447046360770272.1622255345.1622255345                                                0.0           \n",
       "\n",
       "                                           geo_city_added_distance_from_moscow_category_>= 3000 km  \\\n",
       "session_id                                                                                           \n",
       "9055434745589932991.1637753792.1637753792                                                0.0         \n",
       "905544597018549464.1636867290.1636867290                                                 0.0         \n",
       "9055446045651783499.1640648526.1640648526                                                1.0         \n",
       "9055447046360770272.1622255328.1622255328                                                0.0         \n",
       "9055447046360770272.1622255345.1622255345                                                0.0         \n",
       "\n",
       "                                           geo_city_added_distance_from_moscow_category_500-1000 km  \\\n",
       "session_id                                                                                            \n",
       "9055434745589932991.1637753792.1637753792                                                0.0          \n",
       "905544597018549464.1636867290.1636867290                                                 0.0          \n",
       "9055446045651783499.1640648526.1640648526                                                0.0          \n",
       "9055447046360770272.1622255328.1622255328                                                0.0          \n",
       "9055447046360770272.1622255345.1622255345                                                0.0          \n",
       "\n",
       "                                           geo_city_added_distance_from_moscow_category_100-500 km  \\\n",
       "session_id                                                                                           \n",
       "9055434745589932991.1637753792.1637753792                                                0.0         \n",
       "905544597018549464.1636867290.1636867290                                                 0.0         \n",
       "9055446045651783499.1640648526.1640648526                                                0.0         \n",
       "9055447046360770272.1622255328.1622255328                                                0.0         \n",
       "9055447046360770272.1622255345.1622255345                                                0.0         \n",
       "\n",
       "                                           geo_city_added_distance_from_moscow_category_no distance  \n",
       "session_id                                                                                           \n",
       "9055434745589932991.1637753792.1637753792                                                0.0         \n",
       "905544597018549464.1636867290.1636867290                                                 0.0         \n",
       "9055446045651783499.1640648526.1640648526                                                0.0         \n",
       "9055447046360770272.1622255328.1622255328                                                0.0         \n",
       "9055447046360770272.1622255345.1622255345                                                0.0         "
      ]
     },
     "execution_count": 62,
     "metadata": {},
     "output_type": "execute_result"
    }
   ],
   "source": [
    "sessions_preprocessed.head()"
   ]
  },
  {
   "cell_type": "code",
   "execution_count": 63,
   "metadata": {
    "colab": {
     "base_uri": "https://localhost:8080/"
    },
    "execution": {
     "iopub.execute_input": "2023-05-04T16:30:47.762959Z",
     "iopub.status.busy": "2023-05-04T16:30:47.762469Z",
     "iopub.status.idle": "2023-05-04T16:30:47.784814Z",
     "shell.execute_reply": "2023-05-04T16:30:47.783416Z",
     "shell.execute_reply.started": "2023-05-04T16:30:47.762911Z"
    },
    "id": "5SWe0lAcbtwE",
    "outputId": "766f231b-d80e-4239-ccd6-5dbb824f3cc7"
   },
   "outputs": [
    {
     "name": "stdout",
     "output_type": "stream",
     "text": [
      "<class 'pandas.core.frame.DataFrame'>\n",
      "Index: 1860042 entries, 9055434745589932991.1637753792.1637753792 to 9055430416266113553.1640968742.1640968742\n",
      "Data columns (total 62 columns):\n",
      " #   Column                                                     Dtype  \n",
      "---  ------                                                     -----  \n",
      " 0   visit_number                                               float64\n",
      " 1   visit_date_weekday                                         float64\n",
      " 2   visit_date_weekend                                         float64\n",
      " 3   visit_date_day                                             float64\n",
      " 4   visit_time_hour                                            float64\n",
      " 5   visit_time_minute                                          float64\n",
      " 6   visit_time_night                                           float64\n",
      " 7   utm_medium_added_is_organic                                float64\n",
      " 8   utm_source_added_is_social                                 float64\n",
      " 9   device_screen_resolution_width                             float64\n",
      " 10  device_screen_resolution_height                            float64\n",
      " 11  device_screen_resolution_ratio                             float64\n",
      " 12  geo_city_added_is_moscow_region                            float64\n",
      " 13  geo_city_added_is_big                                      float64\n",
      " 14  geo_city_is_big_or_in_moscow_region                        float64\n",
      " 15  geo_city_added_distance_from_moscow                        float64\n",
      " 16  utm_source_ZpYIoDJMcFzVoPFsHGJL                            float64\n",
      " 17  utm_source_MvfHsxITijuriZxsqZqt                            float64\n",
      " 18  utm_source_kjsLglQLzykiRbcDiGcD                            float64\n",
      " 19  utm_source_rare                                            float64\n",
      " 20  utm_source_fDLlAcSmythWSCVMvqvL                            float64\n",
      " 21  utm_source_BHcvLfOaCWvWTykYqHVe                            float64\n",
      " 22  utm_source_bByPQxmDaMXgpHeypKSM                            float64\n",
      " 23  utm_medium_cpm                                             float64\n",
      " 24  utm_medium_cpc                                             float64\n",
      " 25  utm_medium_rare                                            float64\n",
      " 26  utm_medium_referral                                        float64\n",
      " 27  utm_campaign_LEoPHuyFvzoNfnzGgfcd                          float64\n",
      " 28  utm_campaign_(nan)                                         float64\n",
      " 29  utm_campaign_gecBYcKZCPMcVYdSSzKP                          float64\n",
      " 30  utm_campaign_rare                                          float64\n",
      " 31  utm_adcontent_vCIpmpaGBnIQhyYNkXqp                         float64\n",
      " 32  utm_adcontent_xhoenQgDQsgfEPYNPwKO                         float64\n",
      " 33  utm_adcontent_rare                                         float64\n",
      " 34  utm_adcontent_(nan)                                        float64\n",
      " 35  utm_adcontent_JNHcPlZPxEMWDnRiyoBf                         float64\n",
      " 36  utm_keyword_puhZPIYqKXeFPaUviSjo                           float64\n",
      " 37  utm_keyword_rare                                           float64\n",
      " 38  device_category_desktop                                    float64\n",
      " 39  device_os_Android                                          float64\n",
      " 40  device_os_iOS                                              float64\n",
      " 41  device_os_Windows                                          float64\n",
      " 42  device_brand_Huawei                                        float64\n",
      " 43  device_brand_Samsung                                       float64\n",
      " 44  device_brand_Xiaomi                                        float64\n",
      " 45  device_brand_Apple                                         float64\n",
      " 46  device_brand_rare                                          float64\n",
      " 47  device_browser_Chrome                                      float64\n",
      " 48  device_browser_rare                                        float64\n",
      " 49  device_browser_Safari                                      float64\n",
      " 50  device_browser_YaBrowser                                   float64\n",
      " 51  device_browser_Safari (in-app)                             float64\n",
      " 52  geo_country_Russia                                         float64\n",
      " 53  geo_city_rare                                              float64\n",
      " 54  geo_city_Moscow                                            float64\n",
      " 55  geo_city_Saint Petersburg                                  float64\n",
      " 56  geo_city_(not set)                                         float64\n",
      " 57  geo_city_added_distance_from_moscow_category_1000-3000 km  float64\n",
      " 58  geo_city_added_distance_from_moscow_category_>= 3000 km    float64\n",
      " 59  geo_city_added_distance_from_moscow_category_500-1000 km   float64\n",
      " 60  geo_city_added_distance_from_moscow_category_100-500 km    float64\n",
      " 61  geo_city_added_distance_from_moscow_category_no distance   float64\n",
      "dtypes: float64(62)\n",
      "memory usage: 894.0+ MB\n"
     ]
    }
   ],
   "source": [
    "sessions_preprocessed.info()"
   ]
  },
  {
   "cell_type": "code",
   "execution_count": 64,
   "metadata": {
    "colab": {
     "base_uri": "https://localhost:8080/"
    },
    "execution": {
     "iopub.execute_input": "2023-05-04T16:30:47.787384Z",
     "iopub.status.busy": "2023-05-04T16:30:47.786882Z",
     "iopub.status.idle": "2023-05-04T16:30:50.680401Z",
     "shell.execute_reply": "2023-05-04T16:30:50.679147Z",
     "shell.execute_reply.started": "2023-05-04T16:30:47.787339Z"
    },
    "id": "ENj_Uf0YzbOl",
    "outputId": "f1eb2712-0b39-4b53-be2a-e71e4890b823"
   },
   "outputs": [
    {
     "name": "stdout",
     "output_type": "stream",
     "text": [
      "Number of duplicates: 175034\n"
     ]
    }
   ],
   "source": [
    "print('Number of duplicates:', sessions_preprocessed.duplicated().sum())"
   ]
  },
  {
   "cell_type": "code",
   "execution_count": 65,
   "metadata": {
    "colab": {
     "base_uri": "https://localhost:8080/"
    },
    "execution": {
     "iopub.execute_input": "2023-05-04T16:30:50.683001Z",
     "iopub.status.busy": "2023-05-04T16:30:50.682534Z",
     "iopub.status.idle": "2023-05-04T16:31:13.369836Z",
     "shell.execute_reply": "2023-05-04T16:31:13.368623Z",
     "shell.execute_reply.started": "2023-05-04T16:30:50.682954Z"
    },
    "id": "f2yUUnezly5y",
    "outputId": "3d868753-ff6c-4bff-a229-6903cb26ce07"
   },
   "outputs": [
    {
     "name": "stdout",
     "output_type": "stream",
     "text": [
      "Correlation with target variable:\n"
     ]
    },
    {
     "data": {
      "text/plain": [
       "target                                1.000000\n",
       "utm_medium_added_is_organic           0.050813\n",
       "utm_medium_referral                   0.049207\n",
       "utm_adcontent_JNHcPlZPxEMWDnRiyoBf    0.044788\n",
       "utm_source_bByPQxmDaMXgpHeypKSM       0.040561\n",
       "Name: target, dtype: float64"
      ]
     },
     "execution_count": 65,
     "metadata": {},
     "output_type": "execute_result"
    }
   ],
   "source": [
    "print('Correlation with target variable:')\n",
    "correlation = pd.concat([sessions_preprocessed, target], axis=1).corr()\n",
    "correlation['target'].sort_values(ascending=False, key=abs).head(5)"
   ]
  },
  {
   "cell_type": "markdown",
   "metadata": {
    "id": "pCDZ_HVmgDaJ"
   },
   "source": [
    "### Feature importance\n",
    "\n",
    "After the conversion, the most important features turned out to be numerical variables: day (of months and weeks), hour, minute (most likely the zero minute of the hour) and visit number, screen size and distance to Moscow.\n",
    "\n",
    "After these signs, the importance of the rest drops greatly. Perhaps this is the peculiarity of working with categorical features (especially with a large number of unevenly distributed unique values).\n",
    "\n",
    "The most important initial features turned out to be: screen size, date, time and visit number, user's city, as well as features with additional data (as an indicator of organic traffic)."
   ]
  },
  {
   "cell_type": "code",
   "execution_count": 66,
   "metadata": {
    "colab": {
     "base_uri": "https://localhost:8080/"
    },
    "execution": {
     "iopub.execute_input": "2023-05-04T16:31:13.372200Z",
     "iopub.status.busy": "2023-05-04T16:31:13.371802Z",
     "iopub.status.idle": "2023-05-04T16:31:13.378871Z",
     "shell.execute_reply": "2023-05-04T16:31:13.377674Z",
     "shell.execute_reply.started": "2023-05-04T16:31:13.372168Z"
    },
    "id": "YL5n0vtek5-h",
    "outputId": "df021af6-99c0-4b38-87a9-76d4b78be43a"
   },
   "outputs": [
    {
     "name": "stdout",
     "output_type": "stream",
     "text": [
      "Features removed during feature selection\n",
      "\n",
      "constant_dropper:\n",
      "\tvisit_date_added_holiday\n",
      "\tdevice_screen_resolution_area\n",
      "\tdevice_category_tablet\n",
      "\tdevice_os_rare\n",
      "\tdevice_model_(nan)\n",
      "duplicated_dropper:\n",
      "\tgeo_city_added_distance_from_moscow_category_moscow\n",
      "\tutm_medium_(none)\n",
      "correlated_dropper:\n",
      "\tdevice_screen_resolution_ratio_greater_1\n",
      "\tdevice_os_(nan)\n",
      "\tutm_medium_banner\n",
      "\tgeo_city_added_distance_from_moscow_category_< 100 km\n",
      "\tdevice_brand_(nan)\n",
      "\tutm_keyword_(nan)\n",
      "\tutm_campaign_FTjNLDyTrXaWYgZymFkV\n",
      "\tutm_campaign_LTuZkdKfxRGVceoWkVyg\n",
      "\tdevice_category_mobile\n",
      "Total removed: 16\n"
     ]
    }
   ],
   "source": [
    "print('Features removed during feature selection\\n')\n",
    "all = 0\n",
    "\n",
    "for step in ('constant_dropper', 'duplicated_dropper', 'correlated_dropper'):\n",
    "    print(step + ':')\n",
    "    for column in final_preprocessor.named_steps[step].features_to_drop_:\n",
    "        print(f'\\t{column}')\n",
    "        all += 1\n",
    "\n",
    "print('Total removed:', all)"
   ]
  },
  {
   "cell_type": "code",
   "execution_count": 67,
   "metadata": {
    "execution": {
     "iopub.execute_input": "2023-05-04T16:31:13.381341Z",
     "iopub.status.busy": "2023-05-04T16:31:13.380884Z",
     "iopub.status.idle": "2023-05-04T16:31:13.392760Z",
     "shell.execute_reply": "2023-05-04T16:31:13.391658Z",
     "shell.execute_reply.started": "2023-05-04T16:31:13.381297Z"
    },
    "id": "zUGLmCB4gvWu"
   },
   "outputs": [],
   "source": [
    "feature_importance = pd.Series(\n",
    "    data=final_model.feature_importances_, \n",
    "    index=sessions_preprocessed.columns)"
   ]
  },
  {
   "cell_type": "code",
   "execution_count": 68,
   "metadata": {
    "colab": {
     "base_uri": "https://localhost:8080/",
     "height": 608
    },
    "execution": {
     "iopub.execute_input": "2023-05-04T16:31:13.394622Z",
     "iopub.status.busy": "2023-05-04T16:31:13.394338Z",
     "iopub.status.idle": "2023-05-04T16:31:14.079706Z",
     "shell.execute_reply": "2023-05-04T16:31:14.078490Z",
     "shell.execute_reply.started": "2023-05-04T16:31:13.394597Z"
    },
    "id": "virCtTBOgvSl",
    "outputId": "ce6e6a81-84b8-49d3-ed51-534ce311ad13"
   },
   "outputs": [
    {
     "data": {
      "image/png": "[encoded data removed]",
      "text/plain": [
       "<Figure size 1600x1000 with 1 Axes>"
      ]
     },
     "metadata": {},
     "output_type": "display_data"
    }
   ],
   "source": [
    "plt.figure(figsize=(16, 10))\n",
    "most_important = feature_importance.sort_values(ascending=False).head(25)\n",
    "sns.barplot(x=most_important, y=most_important.index, orient='h')\n",
    "plt.title('Most important features after transformation');"
   ]
  },
  {
   "cell_type": "code",
   "execution_count": 69,
   "metadata": {
    "execution": {
     "iopub.execute_input": "2023-05-04T16:31:14.082042Z",
     "iopub.status.busy": "2023-05-04T16:31:14.081390Z",
     "iopub.status.idle": "2023-05-04T16:31:14.097634Z",
     "shell.execute_reply": "2023-05-04T16:31:14.096656Z",
     "shell.execute_reply.started": "2023-05-04T16:31:14.082004Z"
    },
    "id": "H0QGo6sROydQ"
   },
   "outputs": [],
   "source": [
    "# From the importance of derived features, we get the importance of the original\n",
    "# Also get the importance of features with added data\n",
    "\n",
    "original_columns = list(sessions.columns) + ['_added_']\n",
    "column_importances = list()\n",
    "for col in original_columns:\n",
    "    imp = feature_importance[feature_importance.index.str.contains(col)].sum()\n",
    "    column_importances.append(imp)\n",
    "\n",
    "column_importances = pd.Series(column_importances, index=original_columns)\n",
    "column_importances.sort_values(ascending=False, inplace=True)"
   ]
  },
  {
   "cell_type": "code",
   "execution_count": 70,
   "metadata": {
    "colab": {
     "base_uri": "https://localhost:8080/",
     "height": 607
    },
    "execution": {
     "iopub.execute_input": "2023-05-04T16:31:14.101217Z",
     "iopub.status.busy": "2023-05-04T16:31:14.100067Z",
     "iopub.status.idle": "2023-05-04T16:31:14.630167Z",
     "shell.execute_reply": "2023-05-04T16:31:14.628921Z",
     "shell.execute_reply.started": "2023-05-04T16:31:14.101165Z"
    },
    "id": "tglso3v3VOFB",
    "outputId": "c0fb8d2c-2f6e-4de5-ac17-7900970cd957"
   },
   "outputs": [
    {
     "data": {
      "image/png": "[encoded data removed]",
      "text/plain": [
       "<Figure size 1800x1000 with 1 Axes>"
      ]
     },
     "metadata": {},
     "output_type": "display_data"
    }
   ],
   "source": [
    "plt.figure(figsize=(18, 10))\n",
    "sns.barplot(x=column_importances, y=column_importances.index, orient='h')\n",
    "plt.title('Importance of original features');"
   ]
  },
  {
   "cell_type": "markdown",
   "metadata": {
    "id": "SD8WsuyWgHfD"
   },
   "source": [
    "### Saving the model"
   ]
  },
  {
   "cell_type": "code",
   "execution_count": 71,
   "metadata": {
    "execution": {
     "iopub.execute_input": "2023-05-04T16:31:14.633292Z",
     "iopub.status.busy": "2023-05-04T16:31:14.632380Z",
     "iopub.status.idle": "2023-05-04T16:31:14.639260Z",
     "shell.execute_reply": "2023-05-04T16:31:14.637733Z",
     "shell.execute_reply.started": "2023-05-04T16:31:14.633215Z"
    },
    "id": "XiidXrOEY8bU"
   },
   "outputs": [],
   "source": [
    "# Merge preprocessor and model back\n",
    "\n",
    "final_pipeline = final_preprocessor.set_params(model=final_model)"
   ]
  },
  {
   "cell_type": "code",
   "execution_count": 72,
   "metadata": {
    "execution": {
     "iopub.execute_input": "2023-05-04T16:31:14.641714Z",
     "iopub.status.busy": "2023-05-04T16:31:14.641215Z",
     "iopub.status.idle": "2023-05-04T16:31:15.122685Z",
     "shell.execute_reply": "2023-05-04T16:31:15.121310Z",
     "shell.execute_reply.started": "2023-05-04T16:31:14.641670Z"
    },
    "id": "OAGb1h73XpXq"
   },
   "outputs": [],
   "source": [
    "# Add metadata for the model\n",
    "\n",
    "metadata = {\n",
    "    'name': 'SberAutopodpiska: target event prediction',\n",
    "    'descripton': ('Model for predicting whether the user will do one of the '\n",
    "                   'target actions \"Order a call\" or \"Leave a request\" '\n",
    "                   'on the website of the SberAutopodpiska service.'),\n",
    "    'model_type': final_model.__class__.__name__, \n",
    "    'version': 1.1, \n",
    "    'training_datetime': datetime.now(), \n",
    "    'author': 'Mykhailo Kafka', \n",
    "    'threshold': best_threshold, \n",
    "    'metrics': {\n",
    "        'roc_auc': roc_auc_score(y_test, test_proba), \n",
    "        'roc_auc_by_class': roc_auc_score(y_test, test_prediction),\n",
    "        'accuracy': accuracy_score(y_test, test_prediction), \n",
    "        'precision': precision_score(y_test, test_prediction), \n",
    "        'recall': recall_score(y_test, test_prediction), \n",
    "        'f1': f1_score(y_test, test_prediction),\n",
    "    }\n",
    "}\n",
    "\n",
    "final_pipeline.metadata = metadata"
   ]
  },
  {
   "cell_type": "code",
   "execution_count": null,
   "metadata": {},
   "outputs": [],
   "source": [
    "# Saving model\n",
    "\n",
    "filename = f'model_{datetime.now():%Y%m%d%H%M%S}.pkl'\n",
    "\n",
    "with open(filename, 'wb') as file:\n",
    "    dill.dump(final_pipeline, file)"
   ]
  },
  {
   "cell_type": "markdown",
   "metadata": {
    "id": "YuL-rxUw4JmK"
   },
   "source": [
    "## Conclusions"
   ]
  },
  {
   "cell_type": "markdown",
   "metadata": {
    "id": "Cq2Ps1_Ymsw4"
   },
   "source": [
    "It took four steps to transform the input data, with the structure as in the `ga_sessions.csv` file, into a form convenient for prediction:\n",
    "1. Fill in the gaps and generate features. Including adding new data, such as organic traffic or distance to Moscow.\n",
    "2. Transformation of numerical variables: normalization and removal of outliers.\n",
    "3. Transformation of categorical features. The main difficulty with them was in the variety of rare unique values. As a result, only the most popular values were encoded using the one-hot method.\n",
    "4. Removal of duplicate and correlated features. Features can correlate up to 0.95, but it is with this threshold that the final model gives the best result.\n",
    "\n",
    "10 models were tested with default hyperparameters. The top three were boosting algorithms from sklearn, lightgbm and catboost.\n",
    "\n",
    "As a result, `LightGBM` was chosen as the best model for the following reasons:\n",
    "+ One of the best indicators of `roc_auc`.\n",
    "+ Fast learning.\n",
    "+ The model is interpretable, that is, you can get indicators of the importance of features.\n",
    "+ Can predict class probability.\n",
    "+ No problems with processors without SSE4 like CatBoost.\n",
    "\n",
    "The model optimization step helped to select the best hyperparameters for the model: n_estimators=800, learning_rate=0.07, reg_lambda=10, num_leaves=26, reg_alpha=10, boosting_type='goss'.\n",
    "\n",
    "The quality of the model by the `roc-auc` metric is **0.7148** (0.6535 for class prediction). But the metric `f1`=0.0871 leaves much to be desired. However, there is no retraining and the project goal is met - `roc-auc` > 0.65.\n",
    "\n",
    "To improve the quality of the prediction one could:\n",
    "1. Increase the amount of data. The test sample will be used to retrain the model, so the model may be better in the end.\n",
    "2. Rebalance classes. But if you reduce the sample with a negative target variable, then the model loses quality, and if you increase the sample with a positive class, then the models are trained for too long.\n",
    "3. Conduct a more thorough search for the best hyperparameters - this will take a lot of time, and the quality gain will be small.\n",
    "4. Carry out additional feature generation. But good ideas are hard to come up with.\n",
    "5. Try more complex models, such as deep learning neural networks."
   ]
  }
 ],
 "metadata": {
  "colab": {
   "collapsed_sections": [
    "O1OIZL9lr4tl",
    "r5K3svqb1tjM",
    "4jwtfKo29Ad7",
    "SdmCT5bFkTpy",
    "I4Owup725D1u",
    "p7no5DMn5KQA",
    "faISJrub1s56",
    "-G6lNagZNfgM",
    "Fm7hN89g4g4_"
   ],
   "provenance": [],
   "toc_visible": true
  },
  "gpuClass": "standard",
  "kernelspec": {
   "display_name": "Python 3 (ipykernel)",
   "language": "python",
   "name": "python3"
  },
  "language_info": {
   "codemirror_mode": {
    "name": "ipython",
    "version": 3
   },
   "file_extension": ".py",
   "mimetype": "text/x-python",
   "name": "python",
   "nbconvert_exporter": "python",
   "pygments_lexer": "ipython3",
   "version": "3.9.13"
  }
 },
 "nbformat": 4,
 "nbformat_minor": 4
}
